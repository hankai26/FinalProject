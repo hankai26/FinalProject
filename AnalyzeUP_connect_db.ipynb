{
  "nbformat": 4,
  "nbformat_minor": 0,
  "metadata": {
    "colab": {
      "name": "AnalyzeUP_connect_db.ipynb",
      "provenance": [],
      "collapsed_sections": [],
      "authorship_tag": "ABX9TyOCUxFWrPfx5aI0XgeZlIVu",
      "include_colab_link": true
    },
    "kernelspec": {
      "name": "python3",
      "display_name": "Python 3"
    },
    "language_info": {
      "name": "python"
    }
  },
  "cells": [
    {
      "cell_type": "markdown",
      "metadata": {
        "id": "view-in-github",
        "colab_type": "text"
      },
      "source": [
        "<a href=\"https://colab.research.google.com/github/kyliekwann/FinalProject/blob/main/AnalyzeUP_connect_db.ipynb\" target=\"_parent\"><img src=\"https://colab.research.google.com/assets/colab-badge.svg\" alt=\"Open In Colab\"/></a>"
      ]
    },
    {
      "cell_type": "markdown",
      "source": [
        "## **Setup Spark**"
      ],
      "metadata": {
        "id": "p8AbZKZSRAGd"
      }
    },
    {
      "cell_type": "code",
      "execution_count": null,
      "metadata": {
        "colab": {
          "base_uri": "https://localhost:8080/"
        },
        "id": "QHuTq_7jDx1K",
        "outputId": "9bf5ce54-da81-44f2-d510-4859d5cd2605"
      },
      "outputs": [
        {
          "output_type": "stream",
          "name": "stdout",
          "text": [
            "\r0% [Working]\r            \rHit:1 https://cloud.r-project.org/bin/linux/ubuntu bionic-cran40/ InRelease\n",
            "\r0% [Connecting to archive.ubuntu.com (185.125.190.36)] [Connecting to security.\r                                                                               \rHit:2 https://developer.download.nvidia.com/compute/cuda/repos/ubuntu1804/x86_64  InRelease\n",
            "\r0% [Connecting to archive.ubuntu.com (185.125.190.36)] [Connecting to security.\r0% [1 InRelease gpgv 3,626 B] [Connecting to archive.ubuntu.com (185.125.190.36\r                                                                               \rGet:3 http://security.ubuntu.com/ubuntu bionic-security InRelease [88.7 kB]\n",
            "\r0% [1 InRelease gpgv 3,626 B] [Waiting for headers] [3 InRelease 14.2 kB/88.7 k\r                                                                               \rHit:4 http://archive.ubuntu.com/ubuntu bionic InRelease\n",
            "Hit:5 http://ppa.launchpad.net/c2d4u.team/c2d4u4.0+/ubuntu bionic InRelease\n",
            "Ign:6 https://developer.download.nvidia.com/compute/machine-learning/repos/ubuntu1804/x86_64  InRelease\n",
            "Hit:7 https://developer.download.nvidia.com/compute/machine-learning/repos/ubuntu1804/x86_64  Release\n",
            "Get:8 http://archive.ubuntu.com/ubuntu bionic-updates InRelease [88.7 kB]\n",
            "Hit:9 http://ppa.launchpad.net/cran/libgit2/ubuntu bionic InRelease\n",
            "Hit:10 http://ppa.launchpad.net/deadsnakes/ppa/ubuntu bionic InRelease\n",
            "Get:11 http://archive.ubuntu.com/ubuntu bionic-backports InRelease [74.6 kB]\n",
            "Hit:12 http://ppa.launchpad.net/graphics-drivers/ppa/ubuntu bionic InRelease\n",
            "Fetched 252 kB in 2s (109 kB/s)\n",
            "Reading package lists... Done\n"
          ]
        }
      ],
      "source": [
        "import os\n",
        "# Find the latest version of spark 3.0 from http://www.apache.org/dist/spark/ and enter as the spark version\n",
        "# For example:\n",
        "spark_version = 'spark-3.0.3'\n",
        "# spark_version = 'spark-3.2.1'\n",
        "os.environ['SPARK_VERSION']=spark_version\n",
        "\n",
        "# Install Spark and Java\n",
        "!apt-get update\n",
        "!apt-get install openjdk-11-jdk-headless -qq > /dev/null\n",
        "!wget -q http://www.apache.org/dist/spark/$SPARK_VERSION/$SPARK_VERSION-bin-hadoop2.7.tgz\n",
        "!tar xf $SPARK_VERSION-bin-hadoop2.7.tgz\n",
        "!pip install -q findspark\n",
        "\n",
        "# Set Environment Variables\n",
        "import os\n",
        "os.environ[\"JAVA_HOME\"] = \"/usr/lib/jvm/java-11-openjdk-amd64\"\n",
        "os.environ[\"SPARK_HOME\"] = f\"/content/{spark_version}-bin-hadoop2.7\"\n",
        "\n",
        "# Start a SparkSession\n",
        "import findspark\n",
        "findspark.init()"
      ]
    },
    {
      "cell_type": "code",
      "source": [
        "# Download the Postgres driver that will allow Spark to interact with Postgres.\n",
        "!wget https://jdbc.postgresql.org/download/postgresql-42.2.16.jar"
      ],
      "metadata": {
        "id": "GZSa7ZzrEX5s",
        "colab": {
          "base_uri": "https://localhost:8080/"
        },
        "outputId": "027c2b85-c0df-4920-bb18-bbb7e4977be4"
      },
      "execution_count": 4,
      "outputs": [
        {
          "output_type": "stream",
          "name": "stdout",
          "text": [
            "--2022-06-17 19:32:15--  https://jdbc.postgresql.org/download/postgresql-42.2.16.jar\n",
            "Resolving jdbc.postgresql.org (jdbc.postgresql.org)... 72.32.157.228, 2001:4800:3e1:1::228\n",
            "Connecting to jdbc.postgresql.org (jdbc.postgresql.org)|72.32.157.228|:443... connected.\n",
            "HTTP request sent, awaiting response... 200 OK\n",
            "Length: 1002883 (979K) [application/java-archive]\n",
            "Saving to: ‘postgresql-42.2.16.jar’\n",
            "\n",
            "postgresql-42.2.16. 100%[===================>] 979.38K  5.48MB/s    in 0.2s    \n",
            "\n",
            "2022-06-17 19:32:16 (5.48 MB/s) - ‘postgresql-42.2.16.jar’ saved [1002883/1002883]\n",
            "\n"
          ]
        }
      ]
    },
    {
      "cell_type": "code",
      "source": [
        "from pyspark.sql import SparkSession\n",
        "spark = SparkSession.builder.appName(\"M16-Amazon-Challenge\").config(\"spark.driver.extraClassPath\",\"/content/postgresql-42.2.16.jar\").getOrCreate()"
      ],
      "metadata": {
        "id": "FfgDPcgYEYHU"
      },
      "execution_count": 5,
      "outputs": []
    },
    {
      "cell_type": "markdown",
      "source": [
        "## **Load Data from S3 into Spark DataFrame**\n",
        "- Connect to data storage, then extract that data into a DataFrame. We have the mock data (sample_url) in S3 bucket.\n",
        "\n",
        "- The dataset (df) mimics our expected final database structure."
      ],
      "metadata": {
        "id": "rvPtDTELKDjE"
      }
    },
    {
      "cell_type": "code",
      "source": [
        "sample_url = \"https://analyzeup-hz.s3.us-west-1.amazonaws.com/Charity_Navigator_US_States_and_Territories.csv\"\n",
        "file_name = \"Charity_Navigator_US_States_and_Territories.csv\""
      ],
      "metadata": {
        "id": "tgtXBujsKKWv"
      },
      "execution_count": 7,
      "outputs": []
    },
    {
      "cell_type": "code",
      "source": [
        "from pyspark import SparkFiles\n",
        "\n",
        "spark.sparkContext.addFile(sample_url)\n",
        "df = spark.read.csv(SparkFiles.get(file_name), sep=',', header=True, inferSchema=True)\n",
        "df.show()"
      ],
      "metadata": {
        "id": "1QDCAI-JEsOR",
        "colab": {
          "base_uri": "https://localhost:8080/"
        },
        "outputId": "e411dcd2-f7f8-4940-ea35-00f9bf920f03"
      },
      "execution_count": 9,
      "outputs": [
        {
          "output_type": "stream",
          "name": "stdout",
          "text": [
            "+--------------------+--------------------+--------------------+--------------------+--------------------+---------+-----+--------------------+-----------------------+------------------------------+---------------------------------+---------------------------------+---------------------+------------------------------------------+-------------------------------------+--------------------------------------+------------------------------------------+-------------------------------------------+----------------------+--------------------+-----------------------------+--------------------+--------------+--------------------+--------------------------+--------------------+--------------------------------+-----------------------------+------------------------------+---------------------------+-------------------------------+-----------------------------+------------------------------------+---------------------------------+----------------------------+-----------------------------+---------------------------+----------------------------+------------------------------+------------------------------------+-----------------------------------+-------------------------------------+-----------------------------------+--------------------------------------+--------------------------------------+----------------------------------+-----------------------------+-----------------------+-------------------------------+--------------------+--------------------------+------------------------------+------------------------------+------------------------+--------------------------------+---------------------+---------------------------+-------------------------------+-------------------------------+--------------------+-----------------------------------------------+-------------------------+-----------------+---------------------------------+-----------------------------------------+\n",
            "| charityNavigatorURL|             mission|          websiteURL|             tagLine|         charityName|      ein|orgID|currentRating__score|currentRating__ratingID|currentRating__publicationDate|currentRating__ratingImage__small|currentRating__ratingImage__large|currentRating__rating|currentRating___rapid_links__related__href|currentRating__financialRating__score|currentRating__financialRating__rating|currentRating__accountabilityRating__score|currentRating__accountabilityRating__rating|category__categoryName|category__categoryID|category__charityNavigatorURL|     category__image|cause__causeID|    cause__causeName|cause__charityNavigatorURL|        cause__image|irsClassification__deductibility|irsClassification__subsection|irsClassification__assetAmount|irsClassification__nteeType|irsClassification__incomeAmount|irsClassification__nteeSuffix|irsClassification__filingRequirement|irsClassification__classification|irsClassification__latest990|irsClassification__rulingDate|irsClassification__nteeCode|irsClassification__groupName|irsClassification__affiliation|irsClassification__deductibilityCode|irsClassification__foundationStatus|irsClassification__nteeClassification|irsClassification__accountingPeriod|irsClassification__deductibilityDetail|irsClassification__exemptOrgStatusCode|irsClassification__exemptOrgStatus|irsClassification__nteeLetter|mailingAddress__country|mailingAddress__stateOrProvince|mailingAddress__city|mailingAddress__postalCode|mailingAddress__streetAddress1|mailingAddress__streetAddress2|donationAddress__country|donationAddress__stateOrProvince|donationAddress__city|donationAddress__postalCode|donationAddress__streetAddress1|donationAddress__streetAddress2|advisories__severity|advisories__active___rapid_links__related__href|organization__charityName|organization__ein|organization__charityNavigatorURL|organization___rapid_links__related__href|\n",
            "+--------------------+--------------------+--------------------+--------------------+--------------------+---------+-----+--------------------+-----------------------+------------------------------+---------------------------------+---------------------------------+---------------------+------------------------------------------+-------------------------------------+--------------------------------------+------------------------------------------+-------------------------------------------+----------------------+--------------------+-----------------------------+--------------------+--------------+--------------------+--------------------------+--------------------+--------------------------------+-----------------------------+------------------------------+---------------------------+-------------------------------+-----------------------------+------------------------------------+---------------------------------+----------------------------+-----------------------------+---------------------------+----------------------------+------------------------------+------------------------------------+-----------------------------------+-------------------------------------+-----------------------------------+--------------------------------------+--------------------------------------+----------------------------------+-----------------------------+-----------------------+-------------------------------+--------------------+--------------------------+------------------------------+------------------------------+------------------------+--------------------------------+---------------------+---------------------------+-------------------------------+-------------------------------+--------------------+-----------------------------------------------+-------------------------+-----------------+---------------------------------+-----------------------------------------+\n",
            "|https://www.chari...|Impact Alabama wa...|https://impactame...|Engaging a Genera...|      Impact America|200850212|15177|               78.12|                 166300|          2022-05-01T04:00:...|             https://d20umu42a...|             https://d20umu42a...|                    2|                      https://api.data....|                                78.25|                                     2|                                        78|                                          2|        Human Services|                   6|         https://www.chari...|https://d20umu42a...|            29|     Social Services|      https://www.chari...|https://d20umu42a...|            Contributions are...|                    501(c)(3)|                       1325910|       Educational Insti...|                        2197482|                         null|                990 (all other) o...|             Educational Organ...|                  June, 2020|                   June, 2004|                        B80|                        null|          Independent - the...|                                   1|               Organization whic...|                 Student Services,...|                               June|                                  null|                                     1|              Unconditional Exe...|                            B|                   null|                             AL|          Birmingham|                     35209|          601 Beacon Parkwa...|                     Suite 102|                    null|                            null|                 null|                       null|                           null|                           null|                null|                           https://api.data....|           Impact America|        200850212|             https://www.chari...|                     https://api.data....|\n",
            "|https://www.chari...|Four Corners Mini...|http://fourcorner...|     The Gospel Sent|Four Corners Mini...|203589685|16270|               89.01|                 168459|          2022-02-01T05:00:...|             https://d20umu42a...|             https://d20umu42a...|                    3|                      https://api.data....|                                95.95|                                     4|                                        85|                                          3|              Religion|                   9|         https://www.chari...|https://d20umu42a...|            26|Religious Activities|      https://www.chari...|https://d20umu42a...|            Contributions are...|                    501(c)(3)|                       3032238|       Religion-Related,...|                        2082463|                         null|                990 (all other) o...|             Charitable Organi...|              December, 2020|                   June, 2007|                        X20|                        null|          Independent - the...|                                   1|               Organization that...|                            Christian|                           December|                                  null|                                     1|              Unconditional Exe...|                            X|                   null|                             AL|             Opelika|                     36801|          202 South 8th Street|                          null|                    null|                            null|                 null|                       null|                           null|                           null|                null|                           https://api.data....|     Four Corners Mini...|        203589685|             https://www.chari...|                     https://api.data....|\n",
            "|https://www.chari...|The Mobile Sympho...|http://www.mobile...|Working to create...|Mobile Symphony O...|237070234|15711|               70.42|                 158948|          2021-09-01T04:00:...|             https://d20umu42a...|             https://d20umu42a...|                    2|                      https://api.data....|                                59.65|                                     1|                                        89|                                          3|  Arts, Culture, Hu...|                   2|         https://www.chari...|https://d20umu42a...|             4|     Performing Arts|      https://www.chari...|https://d20umu42a...|            Contributions are...|                    501(c)(3)|                       1265941|       Arts, Culture and...|                        1463478|                            0|                990 (all other) o...|             Educational Organ...|                  June, 2021|              September, 1970|                        A69|                        null|          Independent - the...|                                   1|               Organization that...|                  Symphony Orchestras|                               June|                                  null|                                     1|              Unconditional Exe...|                            A|                   null|                             AL|              Mobile|                     36602|            257 Dauphin Street|                          null|                    null|                            null|                 null|                       null|                           null|                           null|                null|                           https://api.data....|     Mobile Symphony O...|        237070234|             https://www.chari...|                     https://api.data....|\n",
            "|https://www.chari...|Big Oak Ranch is ...|http://www.bigoak...|A Christian home ...|       Big Oak Ranch|237413017|10038|                92.2|                 164755|          2021-09-01T04:00:...|             https://d20umu42a...|             https://d20umu42a...|                    4|                      https://api.data....|                                99.34|                                     4|                                        89|                                          3|        Human Services|                   6|         https://www.chari...|https://d20umu42a...|            16|Youth Development...|      https://www.chari...|https://d20umu42a...|            Contributions are...|                    501(c)(3)|                      57645774|       Human Services - ...|                       15484928|                            0|                990 (all other) o...|             Charitable Organi...|              December, 2020|                    May, 1978|                        P73|                        null|          Independent - the...|                                   1|               Organization whic...|                 Group Home (Long ...|                           December|                                  null|                                     1|              Unconditional Exe...|                            P|                   null|                             AL|         Springville|                     35146|            6000 Shelley Drive|                          null|                    null|                            null|                 null|                       null|                           null|                           null|                null|                           https://api.data....|            Big Oak Ranch|        237413017|             https://www.chari...|                     https://api.data....|\n",
            "|https://www.chari...|The Community Fou...|https://www.commu...|A Smart Place to ...|Community Foundat...|263750673|18112|               95.47|                 158298|          2021-02-01T05:00:...|             https://d20umu42a...|             https://d20umu42a...|                    4|                      https://api.data....|                                   95|                                     4|                                        96|                                          4|  Community Develop...|                  10|         https://www.chari...|https://d20umu42a...|            22|Community Foundat...|      https://www.chari...|https://d20umu42a...|            Contributions are...|                    501(c)(3)|                      38106163|       Philanthropy, Vol...|                       22248209|                         null|                990 (all other) o...|             Charitable Organi...|              December, 2020|              September, 2009|                        T31|                        null|          Independent - the...|                                   1|               Organization whic...|                 Community Foundat...|                           December|                                  null|                                     1|              Unconditional Exe...|                            T|                   null|                             AL|          Huntsville|                     35801|          303 Williams Aven...|                    Suite 1031|                    null|                            null|                 null|                       null|                           null|                           null|                null|                           https://api.data....|     Community Foundat...|        263750673|             https://www.chari...|                     https://api.data....|\n",
            "|https://www.chari...|The Tigers Unlimi...|http://www.auburn...|Supporting Auburn...|Tigers Unlimited ...|364538203|13761|               88.71|                 165798|          2021-12-23T05:00:...|             https://d20umu42a...|             https://d20umu42a...|                    3|                      https://api.data....|                                94.56|                                     4|                                        85|                                          3|        Human Services|                   6|         https://www.chari...|https://d20umu42a...|            15|Multipurpose Huma...|      https://www.chari...|https://d20umu42a...|            Contributions are...|                    501(c)(3)|                      78592536|       Philanthropy, Vol...|                       43067540|                         null|                990 (all other) o...|             Charitable Organi...|                  June, 2021|               February, 2004|                        T11|                        null|          Independent - the...|                                   1|               Organization whic...|                 Single Organizati...|                               June|                                  null|                                     1|              Unconditional Exe...|                            T|                   null|                             AL|              Auburn|                     36849|          392 South Donahue...|                          null|                    null|                              AL|               Auburn|                      36831|                   P.O. Box 351|                           null|                null|                           https://api.data....|     Tigers Unlimited ...|        364538203|             https://www.chari...|                     https://api.data....|\n",
            "|https://www.chari...|neverthirst provi...|https://www.never...|Bringing clean an...|         neverthirst|450594639|17385|               89.04|                 162262|          2021-07-01T04:00:...|             https://d20umu42a...|             https://d20umu42a...|                    3|                      https://api.data....|                                84.51|                                     3|                                       100|                                          4|         International|                   7|         https://www.chari...|https://d20umu42a...|            20|Development and R...|      https://www.chari...|https://d20umu42a...|            Contributions are...|                    501(c)(3)|                       2950918|                       null|                        4852263|                         null|                990 (all other) o...|             Charitable Organi...|              December, 2020|               February, 2009|                        Q31|                        null|          Independent - the...|                                   1|               Organization whic...|                                 null|                           December|                                  null|                                     1|              Unconditional Exe...|                            Q|                   null|                             AL|          Birmingham|                     35242|           1111 Edenton Street|                          null|                    null|                            null|                 null|                       null|                           null|                           null|                null|                           https://api.data....|              neverthirst|        450594639|             https://www.chari...|                     https://api.data....|\n",
            "|https://www.chari...|Founded in 1982, ...|http://www.mises....|Advancing Austria...|     Mises Institute|521263436| 6221|               94.27|                 163641|          2021-10-01T04:00:...|             https://d20umu42a...|             https://d20umu42a...|                    4|                      https://api.data....|                                91.91|                                     4|                                       100|                                          4|  Research and Publ...|                  11|         https://www.chari...|https://d20umu42a...|            24|Social and Public...|      https://www.chari...|https://d20umu42a...|            Contributions are...|                    501(c)(3)|                      42553839|                       null|                       15711850|                         null|                990 (all other) o...|             Charitable Organi...|              December, 2020|              September, 1982|                       null|                        null|          Independent - the...|                                   1|               Organization whic...|                                 null|                           December|                                  null|                                     1|              Unconditional Exe...|                         null|                   null|                             AL|              Auburn|                     36832|          518 West Magnolia...|                          null|                    null|                            null|                 null|                       null|                           null|                           null|                null|                           https://api.data....|          Mises Institute|        521263436|             https://www.chari...|                     https://api.data....|\n",
            "|https://www.chari...|Jones Valley Teac...|    http://jvtf.org/|Encouraging stude...|Jones Valley Teac...|522359003|17428|               85.01|                 166930|          2021-09-01T04:00:...|             https://d20umu42a...|             https://d20umu42a...|                    3|                      https://api.data....|                                85.04|                                     3|                                        85|                                          3|             Education|                   3|         https://www.chari...|https://d20umu42a...|            40|Youth Education P...|      https://www.chari...|https://d20umu42a...|            Contributions are...|                    501(c)(3)|                       5985023|       Employment, Job-R...|                        4716141|                         null|                990 (all other) o...|             Charitable Organi...|              December, 2020|                   July, 2002|                        J22|                        null|          Independent - the...|                                   1|               Organization whic...|                  Vocational Training|                           December|                                  null|                                     1|              Unconditional Exe...|                            J|                   null|                             AL|          Birmingham|                     35203|          701 25th Street N...|                          null|                    null|                            null|                 null|                       null|                           null|                           null|                null|                           https://api.data....|     Jones Valley Teac...|        522359003|             https://www.chari...|                     https://api.data....|\n",
            "|https://www.chari...|Children's Harbor...|http://www.childr...|Serving Seriously...|   Children's Harbor|570892070| 9596|               77.25|                 168180|          2021-11-01T04:00:...|             https://d20umu42a...|             https://d20umu42a...|                    2|                      https://api.data....|                                77.51|                                     2|                                        77|                                          2|                Health|                   5|         https://www.chari...|https://d20umu42a...|            34|Patient and Famil...|      https://www.chari...|https://d20umu42a...|            Contributions are...|                    501(c)(3)|                      18670748|       Health - General ...|                        3787333|                            0|                990 (all other) o...|             Charitable Organi...|              December, 2020|                January, 1996|                        E86|                        null|          Independent - the...|                                   1|               Organization whic...|                 Patient Services ...|                           December|                                  null|                                     1|              Unconditional Exe...|                            E|                   null|                             AL|      Alexander City|                     35010|          1 Our Children's ...|                          null|                    null|                            null|                 null|                       null|                           null|                           null|                null|                           https://api.data....|        Children's Harbor|        570892070|             https://www.chari...|                     https://api.data....|\n",
            "|https://www.chari...|McWane Science Ce...|http://www.mcwane...|Changing lives th...|McWane Science Ce...|581933712| 5540|               90.07|                 168595|          2022-04-01T04:00:...|             https://d20umu42a...|             https://d20umu42a...|                    4|                      https://api.data....|                                91.28|                                     4|                                        89|                                          3|  Arts, Culture, Hu...|                   2|         https://www.chari...|https://d20umu42a...|             3|             Museums|      https://www.chari...|https://d20umu42a...|            Contributions are...|                    501(c)(3)|                      15638416|       Arts, Culture and...|                        7570377|                            0|                990 (all other) o...|             Educational Organ...|              December, 2020|               February, 1992|                        A52|                        null|          Independent - the...|                                   1|               Organization whic...|                   Children's Museums|                           December|                                  null|                                     1|              Unconditional Exe...|                            A|                   null|                             AL|          Birmingham|                     35203|          200 Nineteenth St...|                          null|                    null|                            null|                 null|                       null|                           null|                           null|                null|                           https://api.data....|     McWane Science Ce...|        581933712|             https://www.chari...|                     https://api.data....|\n",
            "|https://www.chari...|Red Mountain Thea...|http://www.redmou...|Enrich. Educate. ...|Red Mountain Thea...|581994417|14817|               88.05|                 166178|          2022-03-01T05:00:...|             https://d20umu42a...|             https://d20umu42a...|                    3|                      https://api.data....|                                87.18|                                     3|                                        89|                                          3|  Arts, Culture, Hu...|                   2|         https://www.chari...|https://d20umu42a...|             4|     Performing Arts|      https://www.chari...|https://d20umu42a...|            Contributions are...|                    501(c)(3)|                      42065426|       Arts, Culture and...|                       14306708|                            0|                990 (all other) o...|             Educational Organ...|                August, 2021|                   June, 1992|                        A60|                        null|          Independent - the...|                                   1|               Organization that...|                 Performing Arts O...|                             August|                                  null|                                     1|              Unconditional Exe...|                            A|                   null|                             AL|          Birmingham|                     35201|                    PO Box 278|                          null|                    null|                            null|                 null|                       null|                           null|                           null|                null|                           https://api.data....|     Red Mountain Thea...|        581994417|             https://www.chari...|                     https://api.data....|\n",
            "|https://www.chari...|Evangelism Missio...|                null|A fundamental Bap...|Evangelism Missio...|591712184| 9618|               58.73|                 164641|          2022-02-01T05:00:...|             https://d20umu42a...|             https://d20umu42a...|                    1|                      https://api.data....|                                 87.5|                                     3|                                        43|                                          0|              Religion|                   9|         https://www.chari...|https://d20umu42a...|            26|Religious Activities|      https://www.chari...|https://d20umu42a...|            Contributions are...|                    501(c)(3)|                        285335|                       null|                         280785|                         null|                990 (all other) o...|             Charitable Organi...|              December, 2020|                  March, 1977|                       null|                        null|          Independent - the...|                                   1|               Organization whic...|                                 null|                           December|                                  null|                                     1|              Unconditional Exe...|                         null|                   null|                             AL|             Thorsby|                     35171|                  P.O. Box 151|                          null|                    null|                            null|                 null|                       null|                           null|                           null|                null|                           https://api.data....|     Evangelism Missio...|        591712184|             https://www.chari...|                     https://api.data....|\n",
            "|https://www.chari...|Founded in 1955, ...|http://www.birmin...|Inspiring Passion...|      Birmingham Zoo|621231591| 9633|               96.83|                 164645|          2021-09-01T04:00:...|             https://d20umu42a...|             https://d20umu42a...|                    4|                      https://api.data....|                                95.53|                                     4|                                       100|                                          4|               Animals|                   1|         https://www.chari...|https://d20umu42a...|            32|  Zoos and Aquariums|      https://www.chari...|https://d20umu42a...|            Contributions are...|                    501(c)(3)|                      41750720|             Animal-Related|                       10453012|                            0|                990 (all other) o...|             Educational Organ...|              December, 2020|                January, 2001|                        D50|                        null|          Independent - the...|                                   1|               Organization whic...|                 Zoo, Zoological S...|                           December|                                  null|                                     1|              Unconditional Exe...|                            D|                   null|                             AL|          Birmingham|                     35223|              2630 Cahaba Road|                          null|                    null|                            null|                 null|                       null|                           null|                           null|                null|                           https://api.data....|           Birmingham Zoo|        621231591|             https://www.chari...|                     https://api.data....|\n",
            "|https://www.chari...|People for Care a...|  http://www.pcl.is/|Giving the poor a...|People for Care a...|621852946|12876|               78.78|                 165520|          2021-09-01T04:00:...|             https://d20umu42a...|             https://d20umu42a...|                    2|                      https://api.data....|                                  100|                                     4|                                        70|                                          2|         International|                   7|         https://www.chari...|https://d20umu42a...|            20|Development and R...|      https://www.chari...|https://d20umu42a...|            Contributions are...|                    501(c)(3)|                       1421094|       Public Safety, Di...|                        1215551|                         null|                990 (all other) o...|             Charitable Organi...|              December, 2020|               February, 2002|                        M20|                        null|          Independent - the...|                                   1|               Organization whic...|                 Disaster Prepared...|                           December|                                  null|                                     1|              Unconditional Exe...|                            M|                   null|                             AL|              Mobile|                     36618|             7200 Moffett Road|                          null|                    null|                            null|                 null|                       null|                           null|                           null|                null|                           https://api.data....|     People for Care a...|        621852946|             https://www.chari...|                     https://api.data....|\n",
            "|https://www.chari...|Boy Scouts of Ame...|http://www.bwc-bs...|Journey to Excell...|Boy Scouts of Ame...|630288816|14768|               73.81|                 158208|          2021-02-01T05:00:...|             https://d20umu42a...|             https://d20umu42a...|                    2|                      https://api.data....|                                68.22|                                     1|                                        81|                                          3|        Human Services|                   6|         https://www.chari...|https://d20umu42a...|            16|Youth Development...|      https://www.chari...|https://d20umu42a...|            Contributions are...|                    501(c)(3)|                       5012677|          Youth Development|                        1428885|                            0|                990 (all other) o...|             Charitable Organi...|              December, 2020|               November, 1965|                        O41|        BOY SCOUTS OF AME...|          Subordinate - the...|                                   1|               Organization whic...|                 Boy Scouts of Ame...|                           December|                                  null|                                     1|              Unconditional Exe...|                            O|                   null|                             AL|          Tuscaloosa|                     35404|          McAbee Scout Serv...|          2700 Jack Warner ...|                    null|                            null|                 null|                       null|                           null|                           null|                null|                           https://api.data....|     Boy Scouts of Ame...|        630288816|             https://www.chari...|                     https://api.data....|\n",
            "|https://www.chari...|Organized in 1923...| http://www.uwca.org|         Live United|United Way of Cen...|630288846| 4630|               98.23|                 163156|          2021-09-01T04:00:...|             https://d20umu42a...|             https://d20umu42a...|                    4|                      https://api.data....|                                 97.5|                                     4|                                       100|                                          4|  Community Develop...|                  10|         https://www.chari...|https://d20umu42a...|            42|         United Ways|      https://www.chari...|https://d20umu42a...|            Contributions are...|                    501(c)(3)|                     119005962|       Philanthropy, Vol...|                      106894573|                            0|                990 (all other) o...|             Charitable Organi...|              December, 2020|               November, 1941|                        T70|                        null|          Independent - the...|                                   1|               Organization whic...|                 Fund Raising Orga...|                           December|                                  null|                                     1|              Unconditional Exe...|                            T|                   null|                             AL|          Birmingham|                     35232|          3600 Eighth Avenu...|               P.O. Box 320189|                    null|                            null|                 null|                       null|                           null|                           null|                null|                           https://api.data....|     United Way of Cen...|        630288846|             https://www.chari...|                     https://api.data....|\n",
            "|https://www.chari...|The mission of th...|http://www.bgcca....|Great futures sta...|Boys & Girls Club...|630302102|13339|               95.38|                 161582|          2021-06-01T04:00:...|             https://d20umu42a...|             https://d20umu42a...|                    4|                      https://api.data....|                                93.48|                                     4|                                       100|                                          4|        Human Services|                   6|         https://www.chari...|https://d20umu42a...|            16|Youth Development...|      https://www.chari...|https://d20umu42a...|            Contributions are...|                    501(c)(3)|                       9988776|          Youth Development|                        4145837|                            0|                990 (all other) o...|             Charitable Organi...|              December, 2020|               November, 1970|                        O23|                        null|          Independent - the...|                                   1|               Organization whic...|                 Boys and Girls Cl...|                           December|                                  null|                                     1|              Unconditional Exe...|                            O|                   null|                             AL|          Birmingham|                     35215|          2380 Old Springvi...|                          null|                    null|                              AL|           Birmingham|                      35202|                 P.O. Box 10391|                           null|                null|                           https://api.data....|     Boys & Girls Club...|        630302102|             https://www.chari...|                     https://api.data....|\n",
            "|https://www.chari...|Boy Scouts of Ame...| http://www.1bsa.org|Teaching values a...|Boy Scouts of Ame...|630302107| 7259|               84.24|                 160689|          2021-06-01T04:00:...|             https://d20umu42a...|             https://d20umu42a...|                    3|                      https://api.data....|                                83.53|                                     3|                                        85|                                          3|        Human Services|                   6|         https://www.chari...|https://d20umu42a...|            16|Youth Development...|      https://www.chari...|https://d20umu42a...|            Contributions are...|                    501(c)(3)|                      10709041|                       null|                        4671086|                         null|                990 (all other) o...|             Charitable Organi...|              December, 2020|               November, 1965|                       null|        BOY SCOUTS OF AME...|          Subordinate - the...|                                   1|               Organization whic...|                                 null|                           December|                                  null|                                     1|              Unconditional Exe...|                         null|                   null|                             AL|          Birmingham|                     35242|           516 Liberty Parkway|                          null|                    null|                            null|                 null|                       null|                           null|                           null|                null|                           https://api.data....|     Boy Scouts of Ame...|        630302107|             https://www.chari...|                     https://api.data....|\n",
            "|https://www.chari...|Tukabatchee Area ...|http://www.tukaba...|Providing effecti...|Tukabatchee Area ...|630302109|16692|               70.41|                 162148|          2021-06-01T04:00:...|             https://d20umu42a...|             https://d20umu42a...|                    2|                      https://api.data....|                                 82.5|                                     3|                                        62|                                          1|        Human Services|                   6|         https://www.chari...|https://d20umu42a...|            16|Youth Development...|      https://www.chari...|https://d20umu42a...|            Contributions are...|                    501(c)(3)|                       5652724|                       null|                       10224007|                         null|                990 (all other) o...|             Charitable Organi...|              December, 2020|               November, 1965|                       null|        BOY SCOUTS OF AME...|          Subordinate - the...|                                   1|               Organization whic...|                                 null|                           December|                                  null|                                     1|              Unconditional Exe...|                         null|                   null|                             AL|          Montgomery|                     36111|          3067 Carter Hill ...|                          null|                    null|                            null|                 null|                       null|                           null|                           null|                null|                           https://api.data....|     Tukabatchee Area ...|        630302109|             https://www.chari...|                     https://api.data....|\n",
            "+--------------------+--------------------+--------------------+--------------------+--------------------+---------+-----+--------------------+-----------------------+------------------------------+---------------------------------+---------------------------------+---------------------+------------------------------------------+-------------------------------------+--------------------------------------+------------------------------------------+-------------------------------------------+----------------------+--------------------+-----------------------------+--------------------+--------------+--------------------+--------------------------+--------------------+--------------------------------+-----------------------------+------------------------------+---------------------------+-------------------------------+-----------------------------+------------------------------------+---------------------------------+----------------------------+-----------------------------+---------------------------+----------------------------+------------------------------+------------------------------------+-----------------------------------+-------------------------------------+-----------------------------------+--------------------------------------+--------------------------------------+----------------------------------+-----------------------------+-----------------------+-------------------------------+--------------------+--------------------------+------------------------------+------------------------------+------------------------+--------------------------------+---------------------+---------------------------+-------------------------------+-------------------------------+--------------------+-----------------------------------------------+-------------------------+-----------------+---------------------------------+-----------------------------------------+\n",
            "only showing top 20 rows\n",
            "\n"
          ]
        }
      ]
    },
    {
      "cell_type": "code",
      "source": [
        "# Load in a sql function to use columns\n",
        "from pyspark.sql.functions import col\n",
        "df.columns\n",
        "\n",
        "df.printSchema()"
      ],
      "metadata": {
        "colab": {
          "base_uri": "https://localhost:8080/"
        },
        "id": "x7z7Oh5XKa_m",
        "outputId": "ff4e8d58-40d1-4daa-95b6-1d7d0e88691a"
      },
      "execution_count": 29,
      "outputs": [
        {
          "output_type": "stream",
          "name": "stdout",
          "text": [
            "root\n",
            " |-- charityNavigatorURL: string (nullable = true)\n",
            " |-- mission: string (nullable = true)\n",
            " |-- websiteURL: string (nullable = true)\n",
            " |-- tagLine: string (nullable = true)\n",
            " |-- charityName: string (nullable = true)\n",
            " |-- ein: string (nullable = true)\n",
            " |-- orgID: string (nullable = true)\n",
            " |-- currentRating__score: string (nullable = true)\n",
            " |-- currentRating__ratingID: string (nullable = true)\n",
            " |-- currentRating__publicationDate: string (nullable = true)\n",
            " |-- currentRating__ratingImage__small: string (nullable = true)\n",
            " |-- currentRating__ratingImage__large: string (nullable = true)\n",
            " |-- currentRating__rating: string (nullable = true)\n",
            " |-- currentRating___rapid_links__related__href: string (nullable = true)\n",
            " |-- currentRating__financialRating__score: string (nullable = true)\n",
            " |-- currentRating__financialRating__rating: string (nullable = true)\n",
            " |-- currentRating__accountabilityRating__score: string (nullable = true)\n",
            " |-- currentRating__accountabilityRating__rating: string (nullable = true)\n",
            " |-- category__categoryName: string (nullable = true)\n",
            " |-- category__categoryID: string (nullable = true)\n",
            " |-- category__charityNavigatorURL: string (nullable = true)\n",
            " |-- category__image: string (nullable = true)\n",
            " |-- cause__causeID: string (nullable = true)\n",
            " |-- cause__causeName: string (nullable = true)\n",
            " |-- cause__charityNavigatorURL: string (nullable = true)\n",
            " |-- cause__image: string (nullable = true)\n",
            " |-- irsClassification__deductibility: string (nullable = true)\n",
            " |-- irsClassification__subsection: string (nullable = true)\n",
            " |-- irsClassification__assetAmount: string (nullable = true)\n",
            " |-- irsClassification__nteeType: string (nullable = true)\n",
            " |-- irsClassification__incomeAmount: string (nullable = true)\n",
            " |-- irsClassification__nteeSuffix: string (nullable = true)\n",
            " |-- irsClassification__filingRequirement: string (nullable = true)\n",
            " |-- irsClassification__classification: string (nullable = true)\n",
            " |-- irsClassification__latest990: string (nullable = true)\n",
            " |-- irsClassification__rulingDate: string (nullable = true)\n",
            " |-- irsClassification__nteeCode: string (nullable = true)\n",
            " |-- irsClassification__groupName: string (nullable = true)\n",
            " |-- irsClassification__affiliation: string (nullable = true)\n",
            " |-- irsClassification__deductibilityCode: string (nullable = true)\n",
            " |-- irsClassification__foundationStatus: string (nullable = true)\n",
            " |-- irsClassification__nteeClassification: string (nullable = true)\n",
            " |-- irsClassification__accountingPeriod: string (nullable = true)\n",
            " |-- irsClassification__deductibilityDetail: string (nullable = true)\n",
            " |-- irsClassification__exemptOrgStatusCode: string (nullable = true)\n",
            " |-- irsClassification__exemptOrgStatus: string (nullable = true)\n",
            " |-- irsClassification__nteeLetter: string (nullable = true)\n",
            " |-- mailingAddress__country: string (nullable = true)\n",
            " |-- mailingAddress__stateOrProvince: string (nullable = true)\n",
            " |-- mailingAddress__city: string (nullable = true)\n",
            " |-- mailingAddress__postalCode: string (nullable = true)\n",
            " |-- mailingAddress__streetAddress1: string (nullable = true)\n",
            " |-- mailingAddress__streetAddress2: string (nullable = true)\n",
            " |-- donationAddress__country: string (nullable = true)\n",
            " |-- donationAddress__stateOrProvince: string (nullable = true)\n",
            " |-- donationAddress__city: string (nullable = true)\n",
            " |-- donationAddress__postalCode: string (nullable = true)\n",
            " |-- donationAddress__streetAddress1: string (nullable = true)\n",
            " |-- donationAddress__streetAddress2: string (nullable = true)\n",
            " |-- advisories__severity: string (nullable = true)\n",
            " |-- advisories__active___rapid_links__related__href: string (nullable = true)\n",
            " |-- organization__charityName: string (nullable = true)\n",
            " |-- organization__ein: string (nullable = true)\n",
            " |-- organization__charityNavigatorURL: string (nullable = true)\n",
            " |-- organization___rapid_links__related__href: string (nullable = true)\n",
            "\n"
          ]
        }
      ]
    },
    {
      "cell_type": "code",
      "source": [
        "df_sample = df[[\"charityName\"]]"
      ],
      "metadata": {
        "id": "06gI0ffEMvxP"
      },
      "execution_count": 12,
      "outputs": []
    },
    {
      "cell_type": "markdown",
      "source": [
        "## **Connect to the AWS RDS instance and write each DataFrame to its table.**\n",
        "---\n",
        "\n"
      ],
      "metadata": {
        "id": "8BukfeljLOpW"
      }
    },
    {
      "cell_type": "code",
      "source": [
        "# Store environmental variable\n",
        "from getpass import getpass\n",
        "password = getpass('Enter database password')\n",
        "# Configure settings for RDS\n",
        "mode = \"append\"\n",
        "jdbc_url=\"jdbc:postgresql://database-analyzeup.c9mmdejuhxq9.us-west-1.rds.amazonaws.com:5432/analyzeup_project\"\n",
        "config = {\"user\":\"postgres\",\n",
        "          \"password (DB instance)\": password,\n",
        "          \"driver\":\"org.postgresql.Driver\"}"
      ],
      "metadata": {
        "colab": {
          "base_uri": "https://localhost:8080/"
        },
        "id": "KweleMUiL75O",
        "outputId": "6914ce9a-c2ba-4521-df00-38f279e2d77f"
      },
      "execution_count": 24,
      "outputs": [
        {
          "name": "stdout",
          "output_type": "stream",
          "text": [
            "Enter database password··········\n"
          ]
        }
      ]
    },
    {
      "cell_type": "code",
      "source": [
        "# Write table in RDS\n",
        "df_sample.write.jdbc(url=jdbc_url, table='df_sample_table', mode=mode, properties=config)\n",
        "df_sample.show()"
      ],
      "metadata": {
        "colab": {
          "base_uri": "https://localhost:8080/"
        },
        "id": "tbukx2nLLopc",
        "outputId": "b1508341-8906-4a71-d5c0-9f80960d7b3c"
      },
      "execution_count": 30,
      "outputs": [
        {
          "output_type": "stream",
          "name": "stdout",
          "text": [
            "+--------------------+\n",
            "|         charityName|\n",
            "+--------------------+\n",
            "|      Impact America|\n",
            "|Four Corners Mini...|\n",
            "|Mobile Symphony O...|\n",
            "|       Big Oak Ranch|\n",
            "|Community Foundat...|\n",
            "|Tigers Unlimited ...|\n",
            "|         neverthirst|\n",
            "|     Mises Institute|\n",
            "|Jones Valley Teac...|\n",
            "|   Children's Harbor|\n",
            "|McWane Science Ce...|\n",
            "|Red Mountain Thea...|\n",
            "|Evangelism Missio...|\n",
            "|      Birmingham Zoo|\n",
            "|People for Care a...|\n",
            "|Boy Scouts of Ame...|\n",
            "|United Way of Cen...|\n",
            "|Boys & Girls Club...|\n",
            "|Boy Scouts of Ame...|\n",
            "|Tukabatchee Area ...|\n",
            "+--------------------+\n",
            "only showing top 20 rows\n",
            "\n"
          ]
        }
      ]
    },
    {
      "cell_type": "markdown",
      "source": [
        "### ** Schema is created with 8 tables. We will keep editing and adding more helpful tables for the model training.\n",
        "\n",
        "### ** Model is connected here to read from and write into tables from our dataset."
      ],
      "metadata": {
        "id": "WKO7eH0aGLj1"
      }
    },
    {
      "cell_type": "code",
      "source": [
        "df.write.jdbc(url=jdbc_url, table='complete_table', mode=mode, properties=config)\n",
        "df.show()"
      ],
      "metadata": {
        "colab": {
          "base_uri": "https://localhost:8080/"
        },
        "id": "lCkzmMqgT-30",
        "outputId": "24e8084b-e9cb-4b37-c107-2075a1154c13"
      },
      "execution_count": 33,
      "outputs": [
        {
          "output_type": "execute_result",
          "data": {
            "text/plain": [
              "['charityNavigatorURL',\n",
              " 'mission',\n",
              " 'websiteURL',\n",
              " 'tagLine',\n",
              " 'charityName',\n",
              " 'ein',\n",
              " 'orgID',\n",
              " 'currentRating__score',\n",
              " 'currentRating__ratingID',\n",
              " 'currentRating__publicationDate',\n",
              " 'currentRating__ratingImage__small',\n",
              " 'currentRating__ratingImage__large',\n",
              " 'currentRating__rating',\n",
              " 'currentRating___rapid_links__related__href',\n",
              " 'currentRating__financialRating__score',\n",
              " 'currentRating__financialRating__rating',\n",
              " 'currentRating__accountabilityRating__score',\n",
              " 'currentRating__accountabilityRating__rating',\n",
              " 'category__categoryName',\n",
              " 'category__categoryID',\n",
              " 'category__charityNavigatorURL',\n",
              " 'category__image',\n",
              " 'cause__causeID',\n",
              " 'cause__causeName',\n",
              " 'cause__charityNavigatorURL',\n",
              " 'cause__image',\n",
              " 'irsClassification__deductibility',\n",
              " 'irsClassification__subsection',\n",
              " 'irsClassification__assetAmount',\n",
              " 'irsClassification__nteeType',\n",
              " 'irsClassification__incomeAmount',\n",
              " 'irsClassification__nteeSuffix',\n",
              " 'irsClassification__filingRequirement',\n",
              " 'irsClassification__classification',\n",
              " 'irsClassification__latest990',\n",
              " 'irsClassification__rulingDate',\n",
              " 'irsClassification__nteeCode',\n",
              " 'irsClassification__groupName',\n",
              " 'irsClassification__affiliation',\n",
              " 'irsClassification__deductibilityCode',\n",
              " 'irsClassification__foundationStatus',\n",
              " 'irsClassification__nteeClassification',\n",
              " 'irsClassification__accountingPeriod',\n",
              " 'irsClassification__deductibilityDetail',\n",
              " 'irsClassification__exemptOrgStatusCode',\n",
              " 'irsClassification__exemptOrgStatus',\n",
              " 'irsClassification__nteeLetter',\n",
              " 'mailingAddress__country',\n",
              " 'mailingAddress__stateOrProvince',\n",
              " 'mailingAddress__city',\n",
              " 'mailingAddress__postalCode',\n",
              " 'mailingAddress__streetAddress1',\n",
              " 'mailingAddress__streetAddress2',\n",
              " 'donationAddress__country',\n",
              " 'donationAddress__stateOrProvince',\n",
              " 'donationAddress__city',\n",
              " 'donationAddress__postalCode',\n",
              " 'donationAddress__streetAddress1',\n",
              " 'donationAddress__streetAddress2',\n",
              " 'advisories__severity',\n",
              " 'advisories__active___rapid_links__related__href',\n",
              " 'organization__charityName',\n",
              " 'organization__ein',\n",
              " 'organization__charityNavigatorURL',\n",
              " 'organization___rapid_links__related__href']"
            ]
          },
          "metadata": {},
          "execution_count": 33
        }
      ]
    },
    {
      "cell_type": "code",
      "source": [
        "my_df = spark.read.jdbc(url=jdbc_url, table='complete_table', properties= config) \n",
        "my_df.limit(10).show()"
      ],
      "metadata": {
        "colab": {
          "base_uri": "https://localhost:8080/"
        },
        "id": "lv2Z6BPgZZty",
        "outputId": "0c1e3d41-992f-4845-f525-be1118d319d5"
      },
      "execution_count": 37,
      "outputs": [
        {
          "output_type": "stream",
          "name": "stdout",
          "text": [
            "+--------------------+--------------------+--------------------+--------------------+--------------------+---------+-----+--------------------+-----------------------+------------------------------+---------------------------------+---------------------------------+---------------------+------------------------------------------+-------------------------------------+--------------------------------------+------------------------------------------+-------------------------------------------+----------------------+--------------------+-----------------------------+--------------------+--------------+--------------------+--------------------------+--------------------+--------------------------------+-----------------------------+------------------------------+---------------------------+-------------------------------+-----------------------------+------------------------------------+---------------------------------+----------------------------+-----------------------------+---------------------------+----------------------------+------------------------------+------------------------------------+-----------------------------------+-------------------------------------+-----------------------------------+--------------------------------------+--------------------------------------+----------------------------------+-----------------------------+-----------------------+-------------------------------+--------------------+--------------------------+------------------------------+------------------------------+------------------------+--------------------------------+---------------------+---------------------------+-------------------------------+-------------------------------+--------------------+-----------------------------------------------+-------------------------+-----------------+---------------------------------+-----------------------------------------+\n",
            "| charityNavigatorURL|             mission|          websiteURL|             tagLine|         charityName|      ein|orgID|currentRating__score|currentRating__ratingID|currentRating__publicationDate|currentRating__ratingImage__small|currentRating__ratingImage__large|currentRating__rating|currentRating___rapid_links__related__href|currentRating__financialRating__score|currentRating__financialRating__rating|currentRating__accountabilityRating__score|currentRating__accountabilityRating__rating|category__categoryName|category__categoryID|category__charityNavigatorURL|     category__image|cause__causeID|    cause__causeName|cause__charityNavigatorURL|        cause__image|irsClassification__deductibility|irsClassification__subsection|irsClassification__assetAmount|irsClassification__nteeType|irsClassification__incomeAmount|irsClassification__nteeSuffix|irsClassification__filingRequirement|irsClassification__classification|irsClassification__latest990|irsClassification__rulingDate|irsClassification__nteeCode|irsClassification__groupName|irsClassification__affiliation|irsClassification__deductibilityCode|irsClassification__foundationStatus|irsClassification__nteeClassification|irsClassification__accountingPeriod|irsClassification__deductibilityDetail|irsClassification__exemptOrgStatusCode|irsClassification__exemptOrgStatus|irsClassification__nteeLetter|mailingAddress__country|mailingAddress__stateOrProvince|mailingAddress__city|mailingAddress__postalCode|mailingAddress__streetAddress1|mailingAddress__streetAddress2|donationAddress__country|donationAddress__stateOrProvince|donationAddress__city|donationAddress__postalCode|donationAddress__streetAddress1|donationAddress__streetAddress2|advisories__severity|advisories__active___rapid_links__related__href|organization__charityName|organization__ein|organization__charityNavigatorURL|organization___rapid_links__related__href|\n",
            "+--------------------+--------------------+--------------------+--------------------+--------------------+---------+-----+--------------------+-----------------------+------------------------------+---------------------------------+---------------------------------+---------------------+------------------------------------------+-------------------------------------+--------------------------------------+------------------------------------------+-------------------------------------------+----------------------+--------------------+-----------------------------+--------------------+--------------+--------------------+--------------------------+--------------------+--------------------------------+-----------------------------+------------------------------+---------------------------+-------------------------------+-----------------------------+------------------------------------+---------------------------------+----------------------------+-----------------------------+---------------------------+----------------------------+------------------------------+------------------------------------+-----------------------------------+-------------------------------------+-----------------------------------+--------------------------------------+--------------------------------------+----------------------------------+-----------------------------+-----------------------+-------------------------------+--------------------+--------------------------+------------------------------+------------------------------+------------------------+--------------------------------+---------------------+---------------------------+-------------------------------+-------------------------------+--------------------+-----------------------------------------------+-------------------------+-----------------+---------------------------------+-----------------------------------------+\n",
            "|https://www.chari...|Founded in 1944, ...|http://www.omsi.edu/|Touch. Explore. Q...|Oregon Museum of ...|930402877| 7602|               89.07|                 160730|          2021-09-01T04:00:...|             https://d20umu42a...|             https://d20umu42a...|                    3|                      https://api.data....|                                84.55|                                     3|                                       100|                                          4|  Arts, Culture, Hu...|                   2|         https://www.chari...|https://d20umu42a...|             3|             Museums|      https://www.chari...|https://d20umu42a...|            Contributions are...|                    501(c)(3)|                      60251950|       Arts, Culture and...|                       19605742|                            0|                990 (all other) o...|             Charitable Organi...|                   May, 2021|                    May, 1949|                        A57|                        null|          Independent - the...|                                   1|               Organization that...|                 Science and Techn...|                                May|                                  null|                                     1|              Unconditional Exe...|                            A|                   null|                             OR|            Portland|                     97214|          1945 Southeast Wa...|                          null|                    null|                            null|                 null|                       null|                           null|                           null|                null|                           https://api.data....|     Oregon Museum of ...|        930402877|             https://www.chari...|                     https://api.data....|\n",
            "|https://www.chari...|Founded in 1935, ...|http://www.osfash...|Revealing our col...|Oregon Shakespear...|930407022| 4281|                81.9|                 160265|          2021-06-01T04:00:...|             https://d20umu42a...|             https://d20umu42a...|                    3|                      https://api.data....|                                79.27|                                     2|                                        85|                                          3|  Arts, Culture, Hu...|                   2|         https://www.chari...|https://d20umu42a...|             4|     Performing Arts|      https://www.chari...|https://d20umu42a...|            Contributions are...|                    501(c)(3)|                      56401419|       Arts, Culture and...|                       26315521|                            0|                990 (all other) o...|             Educational Organ...|               October, 2020|                   June, 1939|                        A65|                        null|          Independent - the...|                                   1|               Organization that...|                              Theater|                            October|                                  null|                                     1|              Unconditional Exe...|                            A|                   null|                             OR|             Ashland|                     97520|          15 South Pioneer ...|                          null|                    null|                              OR|              Ashland|                      97520|                   P.O. Box 158|                           null|                null|                           https://api.data....|     Oregon Shakespear...|        930407022|             https://www.chari...|                     https://api.data....|\n",
            "|https://www.chari...|Responding to Chr...|https://www.ccslc...|Help and Hope for...|Catholic Communit...|930409105|14738|               85.01|                 166153|          2022-04-01T04:00:...|             https://d20umu42a...|             https://d20umu42a...|                    3|                      https://api.data....|                                   80|                                     3|                                        93|                                          4|        Human Services|                   6|         https://www.chari...|https://d20umu42a...|            29|     Social Services|      https://www.chari...|https://d20umu42a...|            Contributions are...|                    501(c)(3)|                       2616186|       Human Services - ...|                        5099726|                            0|                990 (all other) o...|             Charitable Organi...|                  June, 2020|                  March, 1946|                        P28|        UNITED STATES CON...|          Subordinate - the...|                                   1|               Organization whic...|                 Neighborhood Cent...|                               June|                                  null|                                     1|              Unconditional Exe...|                            P|                   null|                             OR|         Springfield|                     97477|                 1025 G Street|                          null|                    null|                            null|                 null|                       null|                           null|                           null|                null|                           https://api.data....|     Catholic Communit...|        930409105|             https://www.chari...|                     https://api.data....|\n",
            "|https://www.chari...|Since 1923, the S...|http://www.sunshi...|Helping families ...|Sunshine Division...|930429354| 6604|               93.59|                 167671|          2022-03-01T05:00:...|             https://d20umu42a...|             https://d20umu42a...|                    4|                      https://api.data....|                                91.88|                                     4|                                        96|                                          4|        Human Services|                   6|         https://www.chari...|https://d20umu42a...|            18|Food Banks, Food ...|      https://www.chari...|https://d20umu42a...|            Contributions are...|                    501(c)(3)|                       7563723|       Crime, Legal-Related|                       10563284|                            Z|                990 (all other) o...|             Charitable Organi...|                  June, 2020|                  March, 1967|                        I60|                        null|          Independent - the...|                                   1|               Organization whic...|                 Law Enforcement A...|                               June|                                  null|                                     1|              Unconditional Exe...|                            I|                   null|                             OR|            Portland|                     97227|          687 North Thompso...|                          null|                    null|                            null|                 null|                       null|                           null|                           null|                null|                           https://api.data....|     Sunshine Division...|        930429354|             https://www.chari...|                     https://api.data....|\n",
            "|https://www.chari...|Since its foundin...|http://www.orsymp...|Moving Music Forward|     Oregon Symphony|930446527| 6412|               86.68|                 163697|          2021-11-01T04:00:...|             https://d20umu42a...|             https://d20umu42a...|                    3|                      https://api.data....|                                82.52|                                     3|                                        93|                                          4|  Arts, Culture, Hu...|                   2|         https://www.chari...|https://d20umu42a...|             4|     Performing Arts|      https://www.chari...|https://d20umu42a...|            Contributions are...|                    501(c)(3)|                      21520375|       Arts, Culture and...|                       14183328|                            0|                990 (all other) o...|             Educational Organ...|                  June, 2020|                   June, 1954|                        A69|                        null|          Independent - the...|                                   1|               Organization whic...|                  Symphony Orchestras|                               June|                                  null|                                     1|              Unconditional Exe...|                            A|                   null|                             OR|            Portland|                     97205|          909 Southwest Was...|                          null|                    null|                              OR|             Portland|                      97205|           921 Southwest Was...|                      Suite 200|                null|                           https://api.data....|          Oregon Symphony|        930446527|             https://www.chari...|                     https://api.data....|\n",
            "|https://www.chari...|Founded in 1944, ...|http://www.green-...|Loving animals si...|Greenhill Humane ...|930467412| 7607|               84.64|                 164020|          2022-02-01T05:00:...|             https://d20umu42a...|             https://d20umu42a...|                    3|                      https://api.data....|                                78.29|                                     2|                                       100|                                          4|               Animals|                   1|         https://www.chari...|https://d20umu42a...|             2|Animal Rights, We...|      https://www.chari...|https://d20umu42a...|            Contributions are...|                    501(c)(3)|                       9678406|             Animal-Related|                        4115124|                            0|                990 (all other) o...|             Organization to P...|                  June, 2020|                    May, 1957|                        D20|                        null|          Independent - the...|                                   1|               Organization whic...|                 Animal Protection...|                               June|                                  null|                                     1|              Unconditional Exe...|                            D|                   null|                             OR|              Eugene|                     97402|          88530 Green Hill ...|                          null|                    null|                            null|                 null|                       null|                           null|                           null|                null|                           https://api.data....|     Greenhill Humane ...|        930467412|             https://www.chari...|                     https://api.data....|\n",
            "|https://www.chari...|Boys & Girls Club...|http://www.bgcpor...|Enabling young pe...|Boys & Girls Club...|930474800|12496|               87.04|                 167803|          2022-04-01T04:00:...|             https://d20umu42a...|             https://d20umu42a...|                    3|                      https://api.data....|                                85.34|                                     3|                                        89|                                          3|        Human Services|                   6|         https://www.chari...|https://d20umu42a...|            16|Youth Development...|      https://www.chari...|https://d20umu42a...|            Contributions are...|                    501(c)(3)|                      26157816|          Youth Development|                        5078680|                            Z|                990 (all other) o...|             Charitable Organi...|                  June, 2020|                   July, 1948|                        O23|                        null|          Independent - the...|                                   1|               Organization whic...|                 Boys and Girls Cl...|                               June|                                  null|                                     1|              Unconditional Exe...|                            O|                   null|                             OR|            Portland|                     97202|          8203 SE Seventh A...|                     Suite 100|                    null|                              OR|             Portland|                      97282|                P.O. Box 820209|                           null|                null|                           https://api.data....|     Boys & Girls Club...|        930474800|             https://www.chari...|                     https://api.data....|\n",
            "|https://www.chari...|Impact Alabama wa...|https://impactame...|Engaging a Genera...|      Impact America|200850212|15177|               78.12|                 166300|          2022-05-01T04:00:...|             https://d20umu42a...|             https://d20umu42a...|                    2|                      https://api.data....|                                78.25|                                     2|                                        78|                                          2|        Human Services|                   6|         https://www.chari...|https://d20umu42a...|            29|     Social Services|      https://www.chari...|https://d20umu42a...|            Contributions are...|                    501(c)(3)|                       1325910|       Educational Insti...|                        2197482|                         null|                990 (all other) o...|             Educational Organ...|                  June, 2020|                   June, 2004|                        B80|                        null|          Independent - the...|                                   1|               Organization whic...|                 Student Services,...|                               June|                                  null|                                     1|              Unconditional Exe...|                            B|                   null|                             AL|          Birmingham|                     35209|          601 Beacon Parkwa...|                     Suite 102|                    null|                            null|                 null|                       null|                           null|                           null|                null|                           https://api.data....|           Impact America|        200850212|             https://www.chari...|                     https://api.data....|\n",
            "|https://www.chari...|Four Corners Mini...|http://fourcorner...|     The Gospel Sent|Four Corners Mini...|203589685|16270|               89.01|                 168459|          2022-02-01T05:00:...|             https://d20umu42a...|             https://d20umu42a...|                    3|                      https://api.data....|                                95.95|                                     4|                                        85|                                          3|              Religion|                   9|         https://www.chari...|https://d20umu42a...|            26|Religious Activities|      https://www.chari...|https://d20umu42a...|            Contributions are...|                    501(c)(3)|                       3032238|       Religion-Related,...|                        2082463|                         null|                990 (all other) o...|             Charitable Organi...|              December, 2020|                   June, 2007|                        X20|                        null|          Independent - the...|                                   1|               Organization that...|                            Christian|                           December|                                  null|                                     1|              Unconditional Exe...|                            X|                   null|                             AL|             Opelika|                     36801|          202 South 8th Street|                          null|                    null|                            null|                 null|                       null|                           null|                           null|                null|                           https://api.data....|     Four Corners Mini...|        203589685|             https://www.chari...|                     https://api.data....|\n",
            "|https://www.chari...|The Mobile Sympho...|http://www.mobile...|Working to create...|Mobile Symphony O...|237070234|15711|               70.42|                 158948|          2021-09-01T04:00:...|             https://d20umu42a...|             https://d20umu42a...|                    2|                      https://api.data....|                                59.65|                                     1|                                        89|                                          3|  Arts, Culture, Hu...|                   2|         https://www.chari...|https://d20umu42a...|             4|     Performing Arts|      https://www.chari...|https://d20umu42a...|            Contributions are...|                    501(c)(3)|                       1265941|       Arts, Culture and...|                        1463478|                            0|                990 (all other) o...|             Educational Organ...|                  June, 2021|              September, 1970|                        A69|                        null|          Independent - the...|                                   1|               Organization that...|                  Symphony Orchestras|                               June|                                  null|                                     1|              Unconditional Exe...|                            A|                   null|                             AL|              Mobile|                     36602|            257 Dauphin Street|                          null|                    null|                            null|                 null|                       null|                           null|                           null|                null|                           https://api.data....|     Mobile Symphony O...|        237070234|             https://www.chari...|                     https://api.data....|\n",
            "+--------------------+--------------------+--------------------+--------------------+--------------------+---------+-----+--------------------+-----------------------+------------------------------+---------------------------------+---------------------------------+---------------------+------------------------------------------+-------------------------------------+--------------------------------------+------------------------------------------+-------------------------------------------+----------------------+--------------------+-----------------------------+--------------------+--------------+--------------------+--------------------------+--------------------+--------------------------------+-----------------------------+------------------------------+---------------------------+-------------------------------+-----------------------------+------------------------------------+---------------------------------+----------------------------+-----------------------------+---------------------------+----------------------------+------------------------------+------------------------------------+-----------------------------------+-------------------------------------+-----------------------------------+--------------------------------------+--------------------------------------+----------------------------------+-----------------------------+-----------------------+-------------------------------+--------------------+--------------------------+------------------------------+------------------------------+------------------------+--------------------------------+---------------------+---------------------------+-------------------------------+-------------------------------+--------------------+-----------------------------------------------+-------------------------+-----------------+---------------------------------+-----------------------------------------+\n",
            "\n"
          ]
        }
      ]
    },
    {
      "cell_type": "code",
      "source": [
        "ein_df = spark.read.jdbc(url=jdbc_url, table='ein_table', properties= config) \n",
        "name_df = spark.read.jdbc(url=jdbc_url, table='name_table', properties= config) \n",
        "income_df = spark.read.jdbc(url=jdbc_url, table='income_table', properties= config) \n",
        "publish_date_df = spark.read.jdbc(url=jdbc_url, table='publish_date', properties= config) \n",
        "rating_df = spark.read.jdbc(url=jdbc_url, table='rating_table', properties= config) \n",
        "state_df = spark.read.jdbc(url=jdbc_url, table='state_table', properties= config) \n"
      ],
      "metadata": {
        "id": "jpM1PlZ4dInw"
      },
      "execution_count": 43,
      "outputs": []
    },
    {
      "cell_type": "code",
      "source": [
        "print(ein_df.show(5), name_df.show(5))"
      ],
      "metadata": {
        "colab": {
          "base_uri": "https://localhost:8080/"
        },
        "id": "qgHRSC6Fdgdv",
        "outputId": "daa1a5ba-d00d-48d1-b7cd-703489e34a4b"
      },
      "execution_count": 44,
      "outputs": [
        {
          "output_type": "stream",
          "name": "stdout",
          "text": [
            "+-----+---+\n",
            "|orgid|ein|\n",
            "+-----+---+\n",
            "+-----+---+\n",
            "\n",
            "+-----+------------------------+\n",
            "|orgid|organization_charityname|\n",
            "+-----+------------------------+\n",
            "+-----+------------------------+\n",
            "\n",
            "None None\n"
          ]
        }
      ]
    },
    {
      "cell_type": "markdown",
      "source": [
        ""
      ],
      "metadata": {
        "id": "zShYatfTGobE"
      }
    }
  ]
}