{
  "nbformat": 4,
  "nbformat_minor": 0,
  "metadata": {
    "colab": {
      "name": "AnalyzeUP_connect_db.ipynb",
      "provenance": [],
      "collapsed_sections": [],
      "authorship_tag": "ABX9TyNaAYn8h5cWlzQWZSLapAGN",
      "include_colab_link": true
    },
    "kernelspec": {
      "name": "python3",
      "display_name": "Python 3"
    },
    "language_info": {
      "name": "python"
    }
  },
  "cells": [
    {
      "cell_type": "markdown",
      "metadata": {
        "id": "view-in-github",
        "colab_type": "text"
      },
      "source": [
        "<a href=\"https://colab.research.google.com/github/kyliekwann/FinalProject/blob/hankai26/AnalyzeUP_connect_db.ipynb\" target=\"_parent\"><img src=\"https://colab.research.google.com/assets/colab-badge.svg\" alt=\"Open In Colab\"/></a>"
      ]
    },
    {
      "cell_type": "markdown",
      "source": [
        "## **Setup Spark**"
      ],
      "metadata": {
        "id": "p8AbZKZSRAGd"
      }
    },
    {
      "cell_type": "code",
      "execution_count": 1,
      "metadata": {
        "colab": {
          "base_uri": "https://localhost:8080/"
        },
        "id": "QHuTq_7jDx1K",
        "outputId": "78be3b59-13fe-41d3-8c40-da0b3839985d"
      },
      "outputs": [
        {
          "output_type": "stream",
          "name": "stdout",
          "text": [
            "\r0% [Working]\r            \rHit:1 https://cloud.r-project.org/bin/linux/ubuntu bionic-cran40/ InRelease\n",
            "\r0% [Connecting to archive.ubuntu.com (91.189.91.39)] [Connecting to security.ub\r                                                                               \rHit:2 https://developer.download.nvidia.com/compute/cuda/repos/ubuntu1804/x86_64  InRelease\n",
            "\r0% [Waiting for headers] [Connecting to security.ubuntu.com] [Connecting to ppa\r0% [1 InRelease gpgv 3,626 B] [Waiting for headers] [Connecting to security.ubu\r                                                                               \rIgn:3 https://developer.download.nvidia.com/compute/machine-learning/repos/ubuntu1804/x86_64  InRelease\n",
            "\r0% [1 InRelease gpgv 3,626 B] [Waiting for headers] [Connecting to security.ubu\r                                                                               \rHit:4 https://developer.download.nvidia.com/compute/machine-learning/repos/ubuntu1804/x86_64  Release\n",
            "\r0% [1 InRelease gpgv 3,626 B] [Waiting for headers] [Connecting to security.ubu\r                                                                               \rHit:5 http://archive.ubuntu.com/ubuntu bionic InRelease\n",
            "\r0% [1 InRelease gpgv 3,626 B] [Waiting for headers] [Connecting to security.ubu\r                                                                               \rGet:6 http://archive.ubuntu.com/ubuntu bionic-updates InRelease [88.7 kB]\n",
            "Get:7 http://security.ubuntu.com/ubuntu bionic-security InRelease [88.7 kB]\n",
            "Hit:8 http://ppa.launchpad.net/c2d4u.team/c2d4u4.0+/ubuntu bionic InRelease\n",
            "Get:9 http://archive.ubuntu.com/ubuntu bionic-backports InRelease [74.6 kB]\n",
            "Hit:10 http://ppa.launchpad.net/cran/libgit2/ubuntu bionic InRelease\n",
            "Hit:11 http://ppa.launchpad.net/deadsnakes/ppa/ubuntu bionic InRelease\n",
            "Hit:13 http://ppa.launchpad.net/graphics-drivers/ppa/ubuntu bionic InRelease\n",
            "Fetched 252 kB in 4s (56.2 kB/s)\n",
            "Reading package lists... Done\n"
          ]
        }
      ],
      "source": [
        "import os\n",
        "# Find the latest version of spark 3.0 from http://www.apache.org/dist/spark/ and enter as the spark version\n",
        "# For example:\n",
        "spark_version = 'spark-3.0.3'\n",
        "# spark_version = 'spark-3.2.1'\n",
        "os.environ['SPARK_VERSION']=spark_version\n",
        "\n",
        "# Install Spark and Java\n",
        "!apt-get update\n",
        "!apt-get install openjdk-11-jdk-headless -qq > /dev/null\n",
        "!wget -q http://www.apache.org/dist/spark/$SPARK_VERSION/$SPARK_VERSION-bin-hadoop2.7.tgz\n",
        "!tar xf $SPARK_VERSION-bin-hadoop2.7.tgz\n",
        "!pip install -q findspark\n",
        "\n",
        "# Set Environment Variables\n",
        "import os\n",
        "os.environ[\"JAVA_HOME\"] = \"/usr/lib/jvm/java-11-openjdk-amd64\"\n",
        "os.environ[\"SPARK_HOME\"] = f\"/content/{spark_version}-bin-hadoop2.7\"\n",
        "\n",
        "# Start a SparkSession\n",
        "import findspark\n",
        "findspark.init()"
      ]
    },
    {
      "cell_type": "code",
      "source": [
        "# Download the Postgres driver that will allow Spark to interact with Postgres.\n",
        "!wget https://jdbc.postgresql.org/download/postgresql-42.2.16.jar"
      ],
      "metadata": {
        "id": "GZSa7ZzrEX5s",
        "colab": {
          "base_uri": "https://localhost:8080/"
        },
        "outputId": "dfdc1256-7364-4b49-973f-0634f1061fef"
      },
      "execution_count": 2,
      "outputs": [
        {
          "output_type": "stream",
          "name": "stdout",
          "text": [
            "--2022-06-19 00:33:42--  https://jdbc.postgresql.org/download/postgresql-42.2.16.jar\n",
            "Resolving jdbc.postgresql.org (jdbc.postgresql.org)... 72.32.157.228, 2001:4800:3e1:1::228\n",
            "Connecting to jdbc.postgresql.org (jdbc.postgresql.org)|72.32.157.228|:443... connected.\n",
            "HTTP request sent, awaiting response... 200 OK\n",
            "Length: 1002883 (979K) [application/java-archive]\n",
            "Saving to: ‘postgresql-42.2.16.jar.1’\n",
            "\n",
            "postgresql-42.2.16. 100%[===================>] 979.38K  5.99MB/s    in 0.2s    \n",
            "\n",
            "2022-06-19 00:33:43 (5.99 MB/s) - ‘postgresql-42.2.16.jar.1’ saved [1002883/1002883]\n",
            "\n"
          ]
        }
      ]
    },
    {
      "cell_type": "code",
      "source": [
        "from pyspark.sql import SparkSession\n",
        "spark = SparkSession.builder.appName(\"M16-Amazon-Challenge\").config(\"spark.driver.extraClassPath\",\"/content/postgresql-42.2.16.jar\").getOrCreate()"
      ],
      "metadata": {
        "id": "FfgDPcgYEYHU"
      },
      "execution_count": 3,
      "outputs": []
    },
    {
      "cell_type": "markdown",
      "source": [
        "## **Load Data from S3 into Spark DataFrame**\n",
        "- Connect to data storage, then extract that data into a DataFrame. We have the mock data (sample_url) in S3 bucket.\n",
        "\n",
        "- The dataset (df) mimics our expected final database structure."
      ],
      "metadata": {
        "id": "rvPtDTELKDjE"
      }
    },
    {
      "cell_type": "code",
      "source": [
        "sample_url = \"https://analyzeup-hz.s3.us-west-1.amazonaws.com/Charity_Navigator_US_States_and_Territories.csv\"\n",
        "file_name = \"Charity_Navigator_US_States_and_Territories.csv\""
      ],
      "metadata": {
        "id": "tgtXBujsKKWv"
      },
      "execution_count": 4,
      "outputs": []
    },
    {
      "cell_type": "code",
      "source": [
        "from pyspark import SparkFiles\n",
        "\n",
        "spark.sparkContext.addFile(sample_url)\n",
        "df = spark.read.csv(SparkFiles.get(file_name), sep=',', header=True, inferSchema=True)\n",
        "df.show(5)"
      ],
      "metadata": {
        "id": "1QDCAI-JEsOR",
        "colab": {
          "base_uri": "https://localhost:8080/"
        },
        "outputId": "48ac9040-f003-4732-a5f9-1f2f8b657ab7"
      },
      "execution_count": 6,
      "outputs": [
        {
          "output_type": "stream",
          "name": "stdout",
          "text": [
            "+--------------------+--------------------+--------------------+--------------------+--------------------+---------+-----+--------------------+-----------------------+------------------------------+---------------------------------+---------------------------------+---------------------+------------------------------------------+-------------------------------------+--------------------------------------+------------------------------------------+-------------------------------------------+----------------------+--------------------+-----------------------------+--------------------+--------------+--------------------+--------------------------+--------------------+--------------------------------+-----------------------------+------------------------------+---------------------------+-------------------------------+-----------------------------+------------------------------------+---------------------------------+----------------------------+-----------------------------+---------------------------+----------------------------+------------------------------+------------------------------------+-----------------------------------+-------------------------------------+-----------------------------------+--------------------------------------+--------------------------------------+----------------------------------+-----------------------------+-----------------------+-------------------------------+--------------------+--------------------------+------------------------------+------------------------------+------------------------+--------------------------------+---------------------+---------------------------+-------------------------------+-------------------------------+--------------------+-----------------------------------------------+-------------------------+-----------------+---------------------------------+-----------------------------------------+\n",
            "| charityNavigatorURL|             mission|          websiteURL|             tagLine|         charityName|      ein|orgID|currentRating__score|currentRating__ratingID|currentRating__publicationDate|currentRating__ratingImage__small|currentRating__ratingImage__large|currentRating__rating|currentRating___rapid_links__related__href|currentRating__financialRating__score|currentRating__financialRating__rating|currentRating__accountabilityRating__score|currentRating__accountabilityRating__rating|category__categoryName|category__categoryID|category__charityNavigatorURL|     category__image|cause__causeID|    cause__causeName|cause__charityNavigatorURL|        cause__image|irsClassification__deductibility|irsClassification__subsection|irsClassification__assetAmount|irsClassification__nteeType|irsClassification__incomeAmount|irsClassification__nteeSuffix|irsClassification__filingRequirement|irsClassification__classification|irsClassification__latest990|irsClassification__rulingDate|irsClassification__nteeCode|irsClassification__groupName|irsClassification__affiliation|irsClassification__deductibilityCode|irsClassification__foundationStatus|irsClassification__nteeClassification|irsClassification__accountingPeriod|irsClassification__deductibilityDetail|irsClassification__exemptOrgStatusCode|irsClassification__exemptOrgStatus|irsClassification__nteeLetter|mailingAddress__country|mailingAddress__stateOrProvince|mailingAddress__city|mailingAddress__postalCode|mailingAddress__streetAddress1|mailingAddress__streetAddress2|donationAddress__country|donationAddress__stateOrProvince|donationAddress__city|donationAddress__postalCode|donationAddress__streetAddress1|donationAddress__streetAddress2|advisories__severity|advisories__active___rapid_links__related__href|organization__charityName|organization__ein|organization__charityNavigatorURL|organization___rapid_links__related__href|\n",
            "+--------------------+--------------------+--------------------+--------------------+--------------------+---------+-----+--------------------+-----------------------+------------------------------+---------------------------------+---------------------------------+---------------------+------------------------------------------+-------------------------------------+--------------------------------------+------------------------------------------+-------------------------------------------+----------------------+--------------------+-----------------------------+--------------------+--------------+--------------------+--------------------------+--------------------+--------------------------------+-----------------------------+------------------------------+---------------------------+-------------------------------+-----------------------------+------------------------------------+---------------------------------+----------------------------+-----------------------------+---------------------------+----------------------------+------------------------------+------------------------------------+-----------------------------------+-------------------------------------+-----------------------------------+--------------------------------------+--------------------------------------+----------------------------------+-----------------------------+-----------------------+-------------------------------+--------------------+--------------------------+------------------------------+------------------------------+------------------------+--------------------------------+---------------------+---------------------------+-------------------------------+-------------------------------+--------------------+-----------------------------------------------+-------------------------+-----------------+---------------------------------+-----------------------------------------+\n",
            "|https://www.chari...|Impact Alabama wa...|https://impactame...|Engaging a Genera...|      Impact America|200850212|15177|               78.12|                 166300|          2022-05-01T04:00:...|             https://d20umu42a...|             https://d20umu42a...|                    2|                      https://api.data....|                                78.25|                                     2|                                        78|                                          2|        Human Services|                   6|         https://www.chari...|https://d20umu42a...|            29|     Social Services|      https://www.chari...|https://d20umu42a...|            Contributions are...|                    501(c)(3)|                       1325910|       Educational Insti...|                        2197482|                         null|                990 (all other) o...|             Educational Organ...|                  June, 2020|                   June, 2004|                        B80|                        null|          Independent - the...|                                   1|               Organization whic...|                 Student Services,...|                               June|                                  null|                                     1|              Unconditional Exe...|                            B|                   null|                             AL|          Birmingham|                     35209|          601 Beacon Parkwa...|                     Suite 102|                    null|                            null|                 null|                       null|                           null|                           null|                null|                           https://api.data....|           Impact America|        200850212|             https://www.chari...|                     https://api.data....|\n",
            "|https://www.chari...|Four Corners Mini...|http://fourcorner...|     The Gospel Sent|Four Corners Mini...|203589685|16270|               89.01|                 168459|          2022-02-01T05:00:...|             https://d20umu42a...|             https://d20umu42a...|                    3|                      https://api.data....|                                95.95|                                     4|                                        85|                                          3|              Religion|                   9|         https://www.chari...|https://d20umu42a...|            26|Religious Activities|      https://www.chari...|https://d20umu42a...|            Contributions are...|                    501(c)(3)|                       3032238|       Religion-Related,...|                        2082463|                         null|                990 (all other) o...|             Charitable Organi...|              December, 2020|                   June, 2007|                        X20|                        null|          Independent - the...|                                   1|               Organization that...|                            Christian|                           December|                                  null|                                     1|              Unconditional Exe...|                            X|                   null|                             AL|             Opelika|                     36801|          202 South 8th Street|                          null|                    null|                            null|                 null|                       null|                           null|                           null|                null|                           https://api.data....|     Four Corners Mini...|        203589685|             https://www.chari...|                     https://api.data....|\n",
            "|https://www.chari...|The Mobile Sympho...|http://www.mobile...|Working to create...|Mobile Symphony O...|237070234|15711|               70.42|                 158948|          2021-09-01T04:00:...|             https://d20umu42a...|             https://d20umu42a...|                    2|                      https://api.data....|                                59.65|                                     1|                                        89|                                          3|  Arts, Culture, Hu...|                   2|         https://www.chari...|https://d20umu42a...|             4|     Performing Arts|      https://www.chari...|https://d20umu42a...|            Contributions are...|                    501(c)(3)|                       1265941|       Arts, Culture and...|                        1463478|                            0|                990 (all other) o...|             Educational Organ...|                  June, 2021|              September, 1970|                        A69|                        null|          Independent - the...|                                   1|               Organization that...|                  Symphony Orchestras|                               June|                                  null|                                     1|              Unconditional Exe...|                            A|                   null|                             AL|              Mobile|                     36602|            257 Dauphin Street|                          null|                    null|                            null|                 null|                       null|                           null|                           null|                null|                           https://api.data....|     Mobile Symphony O...|        237070234|             https://www.chari...|                     https://api.data....|\n",
            "|https://www.chari...|Big Oak Ranch is ...|http://www.bigoak...|A Christian home ...|       Big Oak Ranch|237413017|10038|                92.2|                 164755|          2021-09-01T04:00:...|             https://d20umu42a...|             https://d20umu42a...|                    4|                      https://api.data....|                                99.34|                                     4|                                        89|                                          3|        Human Services|                   6|         https://www.chari...|https://d20umu42a...|            16|Youth Development...|      https://www.chari...|https://d20umu42a...|            Contributions are...|                    501(c)(3)|                      57645774|       Human Services - ...|                       15484928|                            0|                990 (all other) o...|             Charitable Organi...|              December, 2020|                    May, 1978|                        P73|                        null|          Independent - the...|                                   1|               Organization whic...|                 Group Home (Long ...|                           December|                                  null|                                     1|              Unconditional Exe...|                            P|                   null|                             AL|         Springville|                     35146|            6000 Shelley Drive|                          null|                    null|                            null|                 null|                       null|                           null|                           null|                null|                           https://api.data....|            Big Oak Ranch|        237413017|             https://www.chari...|                     https://api.data....|\n",
            "|https://www.chari...|The Community Fou...|https://www.commu...|A Smart Place to ...|Community Foundat...|263750673|18112|               95.47|                 158298|          2021-02-01T05:00:...|             https://d20umu42a...|             https://d20umu42a...|                    4|                      https://api.data....|                                   95|                                     4|                                        96|                                          4|  Community Develop...|                  10|         https://www.chari...|https://d20umu42a...|            22|Community Foundat...|      https://www.chari...|https://d20umu42a...|            Contributions are...|                    501(c)(3)|                      38106163|       Philanthropy, Vol...|                       22248209|                         null|                990 (all other) o...|             Charitable Organi...|              December, 2020|              September, 2009|                        T31|                        null|          Independent - the...|                                   1|               Organization whic...|                 Community Foundat...|                           December|                                  null|                                     1|              Unconditional Exe...|                            T|                   null|                             AL|          Huntsville|                     35801|          303 Williams Aven...|                    Suite 1031|                    null|                            null|                 null|                       null|                           null|                           null|                null|                           https://api.data....|     Community Foundat...|        263750673|             https://www.chari...|                     https://api.data....|\n",
            "+--------------------+--------------------+--------------------+--------------------+--------------------+---------+-----+--------------------+-----------------------+------------------------------+---------------------------------+---------------------------------+---------------------+------------------------------------------+-------------------------------------+--------------------------------------+------------------------------------------+-------------------------------------------+----------------------+--------------------+-----------------------------+--------------------+--------------+--------------------+--------------------------+--------------------+--------------------------------+-----------------------------+------------------------------+---------------------------+-------------------------------+-----------------------------+------------------------------------+---------------------------------+----------------------------+-----------------------------+---------------------------+----------------------------+------------------------------+------------------------------------+-----------------------------------+-------------------------------------+-----------------------------------+--------------------------------------+--------------------------------------+----------------------------------+-----------------------------+-----------------------+-------------------------------+--------------------+--------------------------+------------------------------+------------------------------+------------------------+--------------------------------+---------------------+---------------------------+-------------------------------+-------------------------------+--------------------+-----------------------------------------------+-------------------------+-----------------+---------------------------------+-----------------------------------------+\n",
            "only showing top 5 rows\n",
            "\n"
          ]
        }
      ]
    },
    {
      "cell_type": "code",
      "source": [
        "# Load in a sql function to use columns\n",
        "from pyspark.sql.functions import col\n",
        "df.columns\n",
        "\n",
        "# df.printSchema()"
      ],
      "metadata": {
        "colab": {
          "base_uri": "https://localhost:8080/"
        },
        "id": "x7z7Oh5XKa_m",
        "outputId": "6f05ca33-6f58-4ef3-b08d-e93e372ff148"
      },
      "execution_count": 7,
      "outputs": [
        {
          "output_type": "execute_result",
          "data": {
            "text/plain": [
              "['charityNavigatorURL',\n",
              " 'mission',\n",
              " 'websiteURL',\n",
              " 'tagLine',\n",
              " 'charityName',\n",
              " 'ein',\n",
              " 'orgID',\n",
              " 'currentRating__score',\n",
              " 'currentRating__ratingID',\n",
              " 'currentRating__publicationDate',\n",
              " 'currentRating__ratingImage__small',\n",
              " 'currentRating__ratingImage__large',\n",
              " 'currentRating__rating',\n",
              " 'currentRating___rapid_links__related__href',\n",
              " 'currentRating__financialRating__score',\n",
              " 'currentRating__financialRating__rating',\n",
              " 'currentRating__accountabilityRating__score',\n",
              " 'currentRating__accountabilityRating__rating',\n",
              " 'category__categoryName',\n",
              " 'category__categoryID',\n",
              " 'category__charityNavigatorURL',\n",
              " 'category__image',\n",
              " 'cause__causeID',\n",
              " 'cause__causeName',\n",
              " 'cause__charityNavigatorURL',\n",
              " 'cause__image',\n",
              " 'irsClassification__deductibility',\n",
              " 'irsClassification__subsection',\n",
              " 'irsClassification__assetAmount',\n",
              " 'irsClassification__nteeType',\n",
              " 'irsClassification__incomeAmount',\n",
              " 'irsClassification__nteeSuffix',\n",
              " 'irsClassification__filingRequirement',\n",
              " 'irsClassification__classification',\n",
              " 'irsClassification__latest990',\n",
              " 'irsClassification__rulingDate',\n",
              " 'irsClassification__nteeCode',\n",
              " 'irsClassification__groupName',\n",
              " 'irsClassification__affiliation',\n",
              " 'irsClassification__deductibilityCode',\n",
              " 'irsClassification__foundationStatus',\n",
              " 'irsClassification__nteeClassification',\n",
              " 'irsClassification__accountingPeriod',\n",
              " 'irsClassification__deductibilityDetail',\n",
              " 'irsClassification__exemptOrgStatusCode',\n",
              " 'irsClassification__exemptOrgStatus',\n",
              " 'irsClassification__nteeLetter',\n",
              " 'mailingAddress__country',\n",
              " 'mailingAddress__stateOrProvince',\n",
              " 'mailingAddress__city',\n",
              " 'mailingAddress__postalCode',\n",
              " 'mailingAddress__streetAddress1',\n",
              " 'mailingAddress__streetAddress2',\n",
              " 'donationAddress__country',\n",
              " 'donationAddress__stateOrProvince',\n",
              " 'donationAddress__city',\n",
              " 'donationAddress__postalCode',\n",
              " 'donationAddress__streetAddress1',\n",
              " 'donationAddress__streetAddress2',\n",
              " 'advisories__severity',\n",
              " 'advisories__active___rapid_links__related__href',\n",
              " 'organization__charityName',\n",
              " 'organization__ein',\n",
              " 'organization__charityNavigatorURL',\n",
              " 'organization___rapid_links__related__href']"
            ]
          },
          "metadata": {},
          "execution_count": 7
        }
      ]
    },
    {
      "cell_type": "markdown",
      "source": [
        "## **Connect to the AWS RDS instance and write each DataFrame to its table.**\n",
        "---\n",
        "\n"
      ],
      "metadata": {
        "id": "8BukfeljLOpW"
      }
    },
    {
      "cell_type": "code",
      "source": [
        "# Store environmental variable\n",
        "from getpass import getpass\n",
        "password = getpass('Enter database password (DB instance)')\n",
        "# Configure settings for RDS\n",
        "mode = \"append\"\n",
        "jdbc_url=\"jdbc:postgresql://database-analyzeup.c9mmdejuhxq9.us-west-1.rds.amazonaws.com:5432/analyzeup_project\"\n",
        "config = {\"user\":\"postgres\",\n",
        "          \"password\": password,\n",
        "          \"driver\":\"org.postgresql.Driver\"}"
      ],
      "metadata": {
        "colab": {
          "base_uri": "https://localhost:8080/"
        },
        "id": "KweleMUiL75O",
        "outputId": "9584f9e7-a7d7-474a-892f-ad0567f16592"
      },
      "execution_count": 8,
      "outputs": [
        {
          "name": "stdout",
          "output_type": "stream",
          "text": [
            "Enter database password (DB instance)··········\n"
          ]
        }
      ]
    },
    {
      "cell_type": "markdown",
      "source": [
        "# ** Model is connected here to READ from and WRITE into tables from our dataset.\n",
        "### ** Schema is created with 8 tables. We will keep editing and adding more helpful tables for the model training.\n",
        "\n"
      ],
      "metadata": {
        "id": "WKO7eH0aGLj1"
      }
    },
    {
      "cell_type": "code",
      "source": [
        "# Test to write table into DB\n",
        "df.write.jdbc(url=jdbc_url, table='complete_table', mode=mode, properties=config)\n",
        "df.show()"
      ],
      "metadata": {
        "colab": {
          "base_uri": "https://localhost:8080/"
        },
        "id": "lCkzmMqgT-30",
        "outputId": "94cc8569-6c09-48c0-9338-bec686ab3d68"
      },
      "execution_count": 32,
      "outputs": [
        {
          "output_type": "stream",
          "name": "stdout",
          "text": [
            "+--------------------+--------------------+--------------------+--------------------+--------------------+---------+-----+--------------------+-----------------------+------------------------------+---------------------------------+---------------------------------+---------------------+------------------------------------------+-------------------------------------+--------------------------------------+------------------------------------------+-------------------------------------------+----------------------+--------------------+-----------------------------+--------------------+--------------+--------------------+--------------------------+--------------------+--------------------------------+-----------------------------+------------------------------+---------------------------+-------------------------------+-----------------------------+------------------------------------+---------------------------------+----------------------------+-----------------------------+---------------------------+----------------------------+------------------------------+------------------------------------+-----------------------------------+-------------------------------------+-----------------------------------+--------------------------------------+--------------------------------------+----------------------------------+-----------------------------+-----------------------+-------------------------------+--------------------+--------------------------+------------------------------+------------------------------+------------------------+--------------------------------+---------------------+---------------------------+-------------------------------+-------------------------------+--------------------+-----------------------------------------------+-------------------------+-----------------+---------------------------------+-----------------------------------------+\n",
            "| charityNavigatorURL|             mission|          websiteURL|             tagLine|         charityName|      ein|orgID|currentRating__score|currentRating__ratingID|currentRating__publicationDate|currentRating__ratingImage__small|currentRating__ratingImage__large|currentRating__rating|currentRating___rapid_links__related__href|currentRating__financialRating__score|currentRating__financialRating__rating|currentRating__accountabilityRating__score|currentRating__accountabilityRating__rating|category__categoryName|category__categoryID|category__charityNavigatorURL|     category__image|cause__causeID|    cause__causeName|cause__charityNavigatorURL|        cause__image|irsClassification__deductibility|irsClassification__subsection|irsClassification__assetAmount|irsClassification__nteeType|irsClassification__incomeAmount|irsClassification__nteeSuffix|irsClassification__filingRequirement|irsClassification__classification|irsClassification__latest990|irsClassification__rulingDate|irsClassification__nteeCode|irsClassification__groupName|irsClassification__affiliation|irsClassification__deductibilityCode|irsClassification__foundationStatus|irsClassification__nteeClassification|irsClassification__accountingPeriod|irsClassification__deductibilityDetail|irsClassification__exemptOrgStatusCode|irsClassification__exemptOrgStatus|irsClassification__nteeLetter|mailingAddress__country|mailingAddress__stateOrProvince|mailingAddress__city|mailingAddress__postalCode|mailingAddress__streetAddress1|mailingAddress__streetAddress2|donationAddress__country|donationAddress__stateOrProvince|donationAddress__city|donationAddress__postalCode|donationAddress__streetAddress1|donationAddress__streetAddress2|advisories__severity|advisories__active___rapid_links__related__href|organization__charityName|organization__ein|organization__charityNavigatorURL|organization___rapid_links__related__href|\n",
            "+--------------------+--------------------+--------------------+--------------------+--------------------+---------+-----+--------------------+-----------------------+------------------------------+---------------------------------+---------------------------------+---------------------+------------------------------------------+-------------------------------------+--------------------------------------+------------------------------------------+-------------------------------------------+----------------------+--------------------+-----------------------------+--------------------+--------------+--------------------+--------------------------+--------------------+--------------------------------+-----------------------------+------------------------------+---------------------------+-------------------------------+-----------------------------+------------------------------------+---------------------------------+----------------------------+-----------------------------+---------------------------+----------------------------+------------------------------+------------------------------------+-----------------------------------+-------------------------------------+-----------------------------------+--------------------------------------+--------------------------------------+----------------------------------+-----------------------------+-----------------------+-------------------------------+--------------------+--------------------------+------------------------------+------------------------------+------------------------+--------------------------------+---------------------+---------------------------+-------------------------------+-------------------------------+--------------------+-----------------------------------------------+-------------------------+-----------------+---------------------------------+-----------------------------------------+\n",
            "|https://www.chari...|Impact Alabama wa...|https://impactame...|Engaging a Genera...|      Impact America|200850212|15177|               78.12|                 166300|          2022-05-01T04:00:...|             https://d20umu42a...|             https://d20umu42a...|                    2|                      https://api.data....|                                78.25|                                     2|                                        78|                                          2|        Human Services|                   6|         https://www.chari...|https://d20umu42a...|            29|     Social Services|      https://www.chari...|https://d20umu42a...|            Contributions are...|                    501(c)(3)|                       1325910|       Educational Insti...|                        2197482|                         null|                990 (all other) o...|             Educational Organ...|                  June, 2020|                   June, 2004|                        B80|                        null|          Independent - the...|                                   1|               Organization whic...|                 Student Services,...|                               June|                                  null|                                     1|              Unconditional Exe...|                            B|                   null|                             AL|          Birmingham|                     35209|          601 Beacon Parkwa...|                     Suite 102|                    null|                            null|                 null|                       null|                           null|                           null|                null|                           https://api.data....|           Impact America|        200850212|             https://www.chari...|                     https://api.data....|\n",
            "|https://www.chari...|Four Corners Mini...|http://fourcorner...|     The Gospel Sent|Four Corners Mini...|203589685|16270|               89.01|                 168459|          2022-02-01T05:00:...|             https://d20umu42a...|             https://d20umu42a...|                    3|                      https://api.data....|                                95.95|                                     4|                                        85|                                          3|              Religion|                   9|         https://www.chari...|https://d20umu42a...|            26|Religious Activities|      https://www.chari...|https://d20umu42a...|            Contributions are...|                    501(c)(3)|                       3032238|       Religion-Related,...|                        2082463|                         null|                990 (all other) o...|             Charitable Organi...|              December, 2020|                   June, 2007|                        X20|                        null|          Independent - the...|                                   1|               Organization that...|                            Christian|                           December|                                  null|                                     1|              Unconditional Exe...|                            X|                   null|                             AL|             Opelika|                     36801|          202 South 8th Street|                          null|                    null|                            null|                 null|                       null|                           null|                           null|                null|                           https://api.data....|     Four Corners Mini...|        203589685|             https://www.chari...|                     https://api.data....|\n",
            "|https://www.chari...|The Mobile Sympho...|http://www.mobile...|Working to create...|Mobile Symphony O...|237070234|15711|               70.42|                 158948|          2021-09-01T04:00:...|             https://d20umu42a...|             https://d20umu42a...|                    2|                      https://api.data....|                                59.65|                                     1|                                        89|                                          3|  Arts, Culture, Hu...|                   2|         https://www.chari...|https://d20umu42a...|             4|     Performing Arts|      https://www.chari...|https://d20umu42a...|            Contributions are...|                    501(c)(3)|                       1265941|       Arts, Culture and...|                        1463478|                            0|                990 (all other) o...|             Educational Organ...|                  June, 2021|              September, 1970|                        A69|                        null|          Independent - the...|                                   1|               Organization that...|                  Symphony Orchestras|                               June|                                  null|                                     1|              Unconditional Exe...|                            A|                   null|                             AL|              Mobile|                     36602|            257 Dauphin Street|                          null|                    null|                            null|                 null|                       null|                           null|                           null|                null|                           https://api.data....|     Mobile Symphony O...|        237070234|             https://www.chari...|                     https://api.data....|\n",
            "|https://www.chari...|Big Oak Ranch is ...|http://www.bigoak...|A Christian home ...|       Big Oak Ranch|237413017|10038|                92.2|                 164755|          2021-09-01T04:00:...|             https://d20umu42a...|             https://d20umu42a...|                    4|                      https://api.data....|                                99.34|                                     4|                                        89|                                          3|        Human Services|                   6|         https://www.chari...|https://d20umu42a...|            16|Youth Development...|      https://www.chari...|https://d20umu42a...|            Contributions are...|                    501(c)(3)|                      57645774|       Human Services - ...|                       15484928|                            0|                990 (all other) o...|             Charitable Organi...|              December, 2020|                    May, 1978|                        P73|                        null|          Independent - the...|                                   1|               Organization whic...|                 Group Home (Long ...|                           December|                                  null|                                     1|              Unconditional Exe...|                            P|                   null|                             AL|         Springville|                     35146|            6000 Shelley Drive|                          null|                    null|                            null|                 null|                       null|                           null|                           null|                null|                           https://api.data....|            Big Oak Ranch|        237413017|             https://www.chari...|                     https://api.data....|\n",
            "|https://www.chari...|The Community Fou...|https://www.commu...|A Smart Place to ...|Community Foundat...|263750673|18112|               95.47|                 158298|          2021-02-01T05:00:...|             https://d20umu42a...|             https://d20umu42a...|                    4|                      https://api.data....|                                   95|                                     4|                                        96|                                          4|  Community Develop...|                  10|         https://www.chari...|https://d20umu42a...|            22|Community Foundat...|      https://www.chari...|https://d20umu42a...|            Contributions are...|                    501(c)(3)|                      38106163|       Philanthropy, Vol...|                       22248209|                         null|                990 (all other) o...|             Charitable Organi...|              December, 2020|              September, 2009|                        T31|                        null|          Independent - the...|                                   1|               Organization whic...|                 Community Foundat...|                           December|                                  null|                                     1|              Unconditional Exe...|                            T|                   null|                             AL|          Huntsville|                     35801|          303 Williams Aven...|                    Suite 1031|                    null|                            null|                 null|                       null|                           null|                           null|                null|                           https://api.data....|     Community Foundat...|        263750673|             https://www.chari...|                     https://api.data....|\n",
            "|https://www.chari...|The Tigers Unlimi...|http://www.auburn...|Supporting Auburn...|Tigers Unlimited ...|364538203|13761|               88.71|                 165798|          2021-12-23T05:00:...|             https://d20umu42a...|             https://d20umu42a...|                    3|                      https://api.data....|                                94.56|                                     4|                                        85|                                          3|        Human Services|                   6|         https://www.chari...|https://d20umu42a...|            15|Multipurpose Huma...|      https://www.chari...|https://d20umu42a...|            Contributions are...|                    501(c)(3)|                      78592536|       Philanthropy, Vol...|                       43067540|                         null|                990 (all other) o...|             Charitable Organi...|                  June, 2021|               February, 2004|                        T11|                        null|          Independent - the...|                                   1|               Organization whic...|                 Single Organizati...|                               June|                                  null|                                     1|              Unconditional Exe...|                            T|                   null|                             AL|              Auburn|                     36849|          392 South Donahue...|                          null|                    null|                              AL|               Auburn|                      36831|                   P.O. Box 351|                           null|                null|                           https://api.data....|     Tigers Unlimited ...|        364538203|             https://www.chari...|                     https://api.data....|\n",
            "|https://www.chari...|neverthirst provi...|https://www.never...|Bringing clean an...|         neverthirst|450594639|17385|               89.04|                 162262|          2021-07-01T04:00:...|             https://d20umu42a...|             https://d20umu42a...|                    3|                      https://api.data....|                                84.51|                                     3|                                       100|                                          4|         International|                   7|         https://www.chari...|https://d20umu42a...|            20|Development and R...|      https://www.chari...|https://d20umu42a...|            Contributions are...|                    501(c)(3)|                       2950918|                       null|                        4852263|                         null|                990 (all other) o...|             Charitable Organi...|              December, 2020|               February, 2009|                        Q31|                        null|          Independent - the...|                                   1|               Organization whic...|                                 null|                           December|                                  null|                                     1|              Unconditional Exe...|                            Q|                   null|                             AL|          Birmingham|                     35242|           1111 Edenton Street|                          null|                    null|                            null|                 null|                       null|                           null|                           null|                null|                           https://api.data....|              neverthirst|        450594639|             https://www.chari...|                     https://api.data....|\n",
            "|https://www.chari...|Founded in 1982, ...|http://www.mises....|Advancing Austria...|     Mises Institute|521263436| 6221|               94.27|                 163641|          2021-10-01T04:00:...|             https://d20umu42a...|             https://d20umu42a...|                    4|                      https://api.data....|                                91.91|                                     4|                                       100|                                          4|  Research and Publ...|                  11|         https://www.chari...|https://d20umu42a...|            24|Social and Public...|      https://www.chari...|https://d20umu42a...|            Contributions are...|                    501(c)(3)|                      42553839|                       null|                       15711850|                         null|                990 (all other) o...|             Charitable Organi...|              December, 2020|              September, 1982|                       null|                        null|          Independent - the...|                                   1|               Organization whic...|                                 null|                           December|                                  null|                                     1|              Unconditional Exe...|                         null|                   null|                             AL|              Auburn|                     36832|          518 West Magnolia...|                          null|                    null|                            null|                 null|                       null|                           null|                           null|                null|                           https://api.data....|          Mises Institute|        521263436|             https://www.chari...|                     https://api.data....|\n",
            "|https://www.chari...|Jones Valley Teac...|    http://jvtf.org/|Encouraging stude...|Jones Valley Teac...|522359003|17428|               85.01|                 166930|          2021-09-01T04:00:...|             https://d20umu42a...|             https://d20umu42a...|                    3|                      https://api.data....|                                85.04|                                     3|                                        85|                                          3|             Education|                   3|         https://www.chari...|https://d20umu42a...|            40|Youth Education P...|      https://www.chari...|https://d20umu42a...|            Contributions are...|                    501(c)(3)|                       5985023|       Employment, Job-R...|                        4716141|                         null|                990 (all other) o...|             Charitable Organi...|              December, 2020|                   July, 2002|                        J22|                        null|          Independent - the...|                                   1|               Organization whic...|                  Vocational Training|                           December|                                  null|                                     1|              Unconditional Exe...|                            J|                   null|                             AL|          Birmingham|                     35203|          701 25th Street N...|                          null|                    null|                            null|                 null|                       null|                           null|                           null|                null|                           https://api.data....|     Jones Valley Teac...|        522359003|             https://www.chari...|                     https://api.data....|\n",
            "|https://www.chari...|Children's Harbor...|http://www.childr...|Serving Seriously...|   Children's Harbor|570892070| 9596|               77.25|                 168180|          2021-11-01T04:00:...|             https://d20umu42a...|             https://d20umu42a...|                    2|                      https://api.data....|                                77.51|                                     2|                                        77|                                          2|                Health|                   5|         https://www.chari...|https://d20umu42a...|            34|Patient and Famil...|      https://www.chari...|https://d20umu42a...|            Contributions are...|                    501(c)(3)|                      18670748|       Health - General ...|                        3787333|                            0|                990 (all other) o...|             Charitable Organi...|              December, 2020|                January, 1996|                        E86|                        null|          Independent - the...|                                   1|               Organization whic...|                 Patient Services ...|                           December|                                  null|                                     1|              Unconditional Exe...|                            E|                   null|                             AL|      Alexander City|                     35010|          1 Our Children's ...|                          null|                    null|                            null|                 null|                       null|                           null|                           null|                null|                           https://api.data....|        Children's Harbor|        570892070|             https://www.chari...|                     https://api.data....|\n",
            "|https://www.chari...|McWane Science Ce...|http://www.mcwane...|Changing lives th...|McWane Science Ce...|581933712| 5540|               90.07|                 168595|          2022-04-01T04:00:...|             https://d20umu42a...|             https://d20umu42a...|                    4|                      https://api.data....|                                91.28|                                     4|                                        89|                                          3|  Arts, Culture, Hu...|                   2|         https://www.chari...|https://d20umu42a...|             3|             Museums|      https://www.chari...|https://d20umu42a...|            Contributions are...|                    501(c)(3)|                      15638416|       Arts, Culture and...|                        7570377|                            0|                990 (all other) o...|             Educational Organ...|              December, 2020|               February, 1992|                        A52|                        null|          Independent - the...|                                   1|               Organization whic...|                   Children's Museums|                           December|                                  null|                                     1|              Unconditional Exe...|                            A|                   null|                             AL|          Birmingham|                     35203|          200 Nineteenth St...|                          null|                    null|                            null|                 null|                       null|                           null|                           null|                null|                           https://api.data....|     McWane Science Ce...|        581933712|             https://www.chari...|                     https://api.data....|\n",
            "|https://www.chari...|Red Mountain Thea...|http://www.redmou...|Enrich. Educate. ...|Red Mountain Thea...|581994417|14817|               88.05|                 166178|          2022-03-01T05:00:...|             https://d20umu42a...|             https://d20umu42a...|                    3|                      https://api.data....|                                87.18|                                     3|                                        89|                                          3|  Arts, Culture, Hu...|                   2|         https://www.chari...|https://d20umu42a...|             4|     Performing Arts|      https://www.chari...|https://d20umu42a...|            Contributions are...|                    501(c)(3)|                      42065426|       Arts, Culture and...|                       14306708|                            0|                990 (all other) o...|             Educational Organ...|                August, 2021|                   June, 1992|                        A60|                        null|          Independent - the...|                                   1|               Organization that...|                 Performing Arts O...|                             August|                                  null|                                     1|              Unconditional Exe...|                            A|                   null|                             AL|          Birmingham|                     35201|                    PO Box 278|                          null|                    null|                            null|                 null|                       null|                           null|                           null|                null|                           https://api.data....|     Red Mountain Thea...|        581994417|             https://www.chari...|                     https://api.data....|\n",
            "|https://www.chari...|Evangelism Missio...|                null|A fundamental Bap...|Evangelism Missio...|591712184| 9618|               58.73|                 164641|          2022-02-01T05:00:...|             https://d20umu42a...|             https://d20umu42a...|                    1|                      https://api.data....|                                 87.5|                                     3|                                        43|                                          0|              Religion|                   9|         https://www.chari...|https://d20umu42a...|            26|Religious Activities|      https://www.chari...|https://d20umu42a...|            Contributions are...|                    501(c)(3)|                        285335|                       null|                         280785|                         null|                990 (all other) o...|             Charitable Organi...|              December, 2020|                  March, 1977|                       null|                        null|          Independent - the...|                                   1|               Organization whic...|                                 null|                           December|                                  null|                                     1|              Unconditional Exe...|                         null|                   null|                             AL|             Thorsby|                     35171|                  P.O. Box 151|                          null|                    null|                            null|                 null|                       null|                           null|                           null|                null|                           https://api.data....|     Evangelism Missio...|        591712184|             https://www.chari...|                     https://api.data....|\n",
            "|https://www.chari...|Founded in 1955, ...|http://www.birmin...|Inspiring Passion...|      Birmingham Zoo|621231591| 9633|               96.83|                 164645|          2021-09-01T04:00:...|             https://d20umu42a...|             https://d20umu42a...|                    4|                      https://api.data....|                                95.53|                                     4|                                       100|                                          4|               Animals|                   1|         https://www.chari...|https://d20umu42a...|            32|  Zoos and Aquariums|      https://www.chari...|https://d20umu42a...|            Contributions are...|                    501(c)(3)|                      41750720|             Animal-Related|                       10453012|                            0|                990 (all other) o...|             Educational Organ...|              December, 2020|                January, 2001|                        D50|                        null|          Independent - the...|                                   1|               Organization whic...|                 Zoo, Zoological S...|                           December|                                  null|                                     1|              Unconditional Exe...|                            D|                   null|                             AL|          Birmingham|                     35223|              2630 Cahaba Road|                          null|                    null|                            null|                 null|                       null|                           null|                           null|                null|                           https://api.data....|           Birmingham Zoo|        621231591|             https://www.chari...|                     https://api.data....|\n",
            "|https://www.chari...|People for Care a...|  http://www.pcl.is/|Giving the poor a...|People for Care a...|621852946|12876|               78.78|                 165520|          2021-09-01T04:00:...|             https://d20umu42a...|             https://d20umu42a...|                    2|                      https://api.data....|                                  100|                                     4|                                        70|                                          2|         International|                   7|         https://www.chari...|https://d20umu42a...|            20|Development and R...|      https://www.chari...|https://d20umu42a...|            Contributions are...|                    501(c)(3)|                       1421094|       Public Safety, Di...|                        1215551|                         null|                990 (all other) o...|             Charitable Organi...|              December, 2020|               February, 2002|                        M20|                        null|          Independent - the...|                                   1|               Organization whic...|                 Disaster Prepared...|                           December|                                  null|                                     1|              Unconditional Exe...|                            M|                   null|                             AL|              Mobile|                     36618|             7200 Moffett Road|                          null|                    null|                            null|                 null|                       null|                           null|                           null|                null|                           https://api.data....|     People for Care a...|        621852946|             https://www.chari...|                     https://api.data....|\n",
            "|https://www.chari...|Boy Scouts of Ame...|http://www.bwc-bs...|Journey to Excell...|Boy Scouts of Ame...|630288816|14768|               73.81|                 158208|          2021-02-01T05:00:...|             https://d20umu42a...|             https://d20umu42a...|                    2|                      https://api.data....|                                68.22|                                     1|                                        81|                                          3|        Human Services|                   6|         https://www.chari...|https://d20umu42a...|            16|Youth Development...|      https://www.chari...|https://d20umu42a...|            Contributions are...|                    501(c)(3)|                       5012677|          Youth Development|                        1428885|                            0|                990 (all other) o...|             Charitable Organi...|              December, 2020|               November, 1965|                        O41|        BOY SCOUTS OF AME...|          Subordinate - the...|                                   1|               Organization whic...|                 Boy Scouts of Ame...|                           December|                                  null|                                     1|              Unconditional Exe...|                            O|                   null|                             AL|          Tuscaloosa|                     35404|          McAbee Scout Serv...|          2700 Jack Warner ...|                    null|                            null|                 null|                       null|                           null|                           null|                null|                           https://api.data....|     Boy Scouts of Ame...|        630288816|             https://www.chari...|                     https://api.data....|\n",
            "|https://www.chari...|Organized in 1923...| http://www.uwca.org|         Live United|United Way of Cen...|630288846| 4630|               98.23|                 163156|          2021-09-01T04:00:...|             https://d20umu42a...|             https://d20umu42a...|                    4|                      https://api.data....|                                 97.5|                                     4|                                       100|                                          4|  Community Develop...|                  10|         https://www.chari...|https://d20umu42a...|            42|         United Ways|      https://www.chari...|https://d20umu42a...|            Contributions are...|                    501(c)(3)|                     119005962|       Philanthropy, Vol...|                      106894573|                            0|                990 (all other) o...|             Charitable Organi...|              December, 2020|               November, 1941|                        T70|                        null|          Independent - the...|                                   1|               Organization whic...|                 Fund Raising Orga...|                           December|                                  null|                                     1|              Unconditional Exe...|                            T|                   null|                             AL|          Birmingham|                     35232|          3600 Eighth Avenu...|               P.O. Box 320189|                    null|                            null|                 null|                       null|                           null|                           null|                null|                           https://api.data....|     United Way of Cen...|        630288846|             https://www.chari...|                     https://api.data....|\n",
            "|https://www.chari...|The mission of th...|http://www.bgcca....|Great futures sta...|Boys & Girls Club...|630302102|13339|               95.38|                 161582|          2021-06-01T04:00:...|             https://d20umu42a...|             https://d20umu42a...|                    4|                      https://api.data....|                                93.48|                                     4|                                       100|                                          4|        Human Services|                   6|         https://www.chari...|https://d20umu42a...|            16|Youth Development...|      https://www.chari...|https://d20umu42a...|            Contributions are...|                    501(c)(3)|                       9988776|          Youth Development|                        4145837|                            0|                990 (all other) o...|             Charitable Organi...|              December, 2020|               November, 1970|                        O23|                        null|          Independent - the...|                                   1|               Organization whic...|                 Boys and Girls Cl...|                           December|                                  null|                                     1|              Unconditional Exe...|                            O|                   null|                             AL|          Birmingham|                     35215|          2380 Old Springvi...|                          null|                    null|                              AL|           Birmingham|                      35202|                 P.O. Box 10391|                           null|                null|                           https://api.data....|     Boys & Girls Club...|        630302102|             https://www.chari...|                     https://api.data....|\n",
            "|https://www.chari...|Boy Scouts of Ame...| http://www.1bsa.org|Teaching values a...|Boy Scouts of Ame...|630302107| 7259|               84.24|                 160689|          2021-06-01T04:00:...|             https://d20umu42a...|             https://d20umu42a...|                    3|                      https://api.data....|                                83.53|                                     3|                                        85|                                          3|        Human Services|                   6|         https://www.chari...|https://d20umu42a...|            16|Youth Development...|      https://www.chari...|https://d20umu42a...|            Contributions are...|                    501(c)(3)|                      10709041|                       null|                        4671086|                         null|                990 (all other) o...|             Charitable Organi...|              December, 2020|               November, 1965|                       null|        BOY SCOUTS OF AME...|          Subordinate - the...|                                   1|               Organization whic...|                                 null|                           December|                                  null|                                     1|              Unconditional Exe...|                         null|                   null|                             AL|          Birmingham|                     35242|           516 Liberty Parkway|                          null|                    null|                            null|                 null|                       null|                           null|                           null|                null|                           https://api.data....|     Boy Scouts of Ame...|        630302107|             https://www.chari...|                     https://api.data....|\n",
            "|https://www.chari...|Tukabatchee Area ...|http://www.tukaba...|Providing effecti...|Tukabatchee Area ...|630302109|16692|               70.41|                 162148|          2021-06-01T04:00:...|             https://d20umu42a...|             https://d20umu42a...|                    2|                      https://api.data....|                                 82.5|                                     3|                                        62|                                          1|        Human Services|                   6|         https://www.chari...|https://d20umu42a...|            16|Youth Development...|      https://www.chari...|https://d20umu42a...|            Contributions are...|                    501(c)(3)|                       5652724|                       null|                       10224007|                         null|                990 (all other) o...|             Charitable Organi...|              December, 2020|               November, 1965|                       null|        BOY SCOUTS OF AME...|          Subordinate - the...|                                   1|               Organization whic...|                                 null|                           December|                                  null|                                     1|              Unconditional Exe...|                         null|                   null|                             AL|          Montgomery|                     36111|          3067 Carter Hill ...|                          null|                    null|                            null|                 null|                       null|                           null|                           null|                null|                           https://api.data....|     Tukabatchee Area ...|        630302109|             https://www.chari...|                     https://api.data....|\n",
            "+--------------------+--------------------+--------------------+--------------------+--------------------+---------+-----+--------------------+-----------------------+------------------------------+---------------------------------+---------------------------------+---------------------+------------------------------------------+-------------------------------------+--------------------------------------+------------------------------------------+-------------------------------------------+----------------------+--------------------+-----------------------------+--------------------+--------------+--------------------+--------------------------+--------------------+--------------------------------+-----------------------------+------------------------------+---------------------------+-------------------------------+-----------------------------+------------------------------------+---------------------------------+----------------------------+-----------------------------+---------------------------+----------------------------+------------------------------+------------------------------------+-----------------------------------+-------------------------------------+-----------------------------------+--------------------------------------+--------------------------------------+----------------------------------+-----------------------------+-----------------------+-------------------------------+--------------------+--------------------------+------------------------------+------------------------------+------------------------+--------------------------------+---------------------+---------------------------+-------------------------------+-------------------------------+--------------------+-----------------------------------------------+-------------------------+-----------------+---------------------------------+-----------------------------------------+\n",
            "only showing top 20 rows\n",
            "\n"
          ]
        }
      ]
    },
    {
      "cell_type": "code",
      "source": [
        "# Test to read table from DB\n",
        "read_df = spark.read.jdbc(url=jdbc_url, table='complete_table', properties= config) \n",
        "read_df.limit(10).show()"
      ],
      "metadata": {
        "colab": {
          "base_uri": "https://localhost:8080/"
        },
        "id": "lv2Z6BPgZZty",
        "outputId": "7f43038c-9247-4f0e-9831-f206124038e1"
      },
      "execution_count": 9,
      "outputs": [
        {
          "output_type": "stream",
          "name": "stdout",
          "text": [
            "+--------------------+--------------------+--------------------+--------------------+--------------------+---------+-----+--------------------+-----------------------+------------------------------+---------------------------------+---------------------------------+---------------------+------------------------------------------+-------------------------------------+--------------------------------------+------------------------------------------+-------------------------------------------+----------------------+--------------------+-----------------------------+--------------------+--------------+--------------------+--------------------------+--------------------+--------------------------------+-----------------------------+------------------------------+---------------------------+-------------------------------+-----------------------------+------------------------------------+---------------------------------+----------------------------+-----------------------------+---------------------------+----------------------------+------------------------------+------------------------------------+-----------------------------------+-------------------------------------+-----------------------------------+--------------------------------------+--------------------------------------+----------------------------------+-----------------------------+-----------------------+-------------------------------+--------------------+--------------------------+------------------------------+------------------------------+------------------------+--------------------------------+---------------------+---------------------------+-------------------------------+-------------------------------+--------------------+-----------------------------------------------+-------------------------+-----------------+---------------------------------+-----------------------------------------+\n",
            "| charityNavigatorURL|             mission|          websiteURL|             tagLine|         charityName|      ein|orgID|currentRating__score|currentRating__ratingID|currentRating__publicationDate|currentRating__ratingImage__small|currentRating__ratingImage__large|currentRating__rating|currentRating___rapid_links__related__href|currentRating__financialRating__score|currentRating__financialRating__rating|currentRating__accountabilityRating__score|currentRating__accountabilityRating__rating|category__categoryName|category__categoryID|category__charityNavigatorURL|     category__image|cause__causeID|    cause__causeName|cause__charityNavigatorURL|        cause__image|irsClassification__deductibility|irsClassification__subsection|irsClassification__assetAmount|irsClassification__nteeType|irsClassification__incomeAmount|irsClassification__nteeSuffix|irsClassification__filingRequirement|irsClassification__classification|irsClassification__latest990|irsClassification__rulingDate|irsClassification__nteeCode|irsClassification__groupName|irsClassification__affiliation|irsClassification__deductibilityCode|irsClassification__foundationStatus|irsClassification__nteeClassification|irsClassification__accountingPeriod|irsClassification__deductibilityDetail|irsClassification__exemptOrgStatusCode|irsClassification__exemptOrgStatus|irsClassification__nteeLetter|mailingAddress__country|mailingAddress__stateOrProvince|mailingAddress__city|mailingAddress__postalCode|mailingAddress__streetAddress1|mailingAddress__streetAddress2|donationAddress__country|donationAddress__stateOrProvince|donationAddress__city|donationAddress__postalCode|donationAddress__streetAddress1|donationAddress__streetAddress2|advisories__severity|advisories__active___rapid_links__related__href|organization__charityName|organization__ein|organization__charityNavigatorURL|organization___rapid_links__related__href|\n",
            "+--------------------+--------------------+--------------------+--------------------+--------------------+---------+-----+--------------------+-----------------------+------------------------------+---------------------------------+---------------------------------+---------------------+------------------------------------------+-------------------------------------+--------------------------------------+------------------------------------------+-------------------------------------------+----------------------+--------------------+-----------------------------+--------------------+--------------+--------------------+--------------------------+--------------------+--------------------------------+-----------------------------+------------------------------+---------------------------+-------------------------------+-----------------------------+------------------------------------+---------------------------------+----------------------------+-----------------------------+---------------------------+----------------------------+------------------------------+------------------------------------+-----------------------------------+-------------------------------------+-----------------------------------+--------------------------------------+--------------------------------------+----------------------------------+-----------------------------+-----------------------+-------------------------------+--------------------+--------------------------+------------------------------+------------------------------+------------------------+--------------------------------+---------------------+---------------------------+-------------------------------+-------------------------------+--------------------+-----------------------------------------------+-------------------------+-----------------+---------------------------------+-----------------------------------------+\n",
            "|https://www.chari...|Founded in 1944, ...|http://www.omsi.edu/|Touch. Explore. Q...|Oregon Museum of ...|930402877| 7602|               89.07|                 160730|          2021-09-01T04:00:...|             https://d20umu42a...|             https://d20umu42a...|                    3|                      https://api.data....|                                84.55|                                     3|                                       100|                                          4|  Arts, Culture, Hu...|                   2|         https://www.chari...|https://d20umu42a...|             3|             Museums|      https://www.chari...|https://d20umu42a...|            Contributions are...|                    501(c)(3)|                      60251950|       Arts, Culture and...|                       19605742|                            0|                990 (all other) o...|             Charitable Organi...|                   May, 2021|                    May, 1949|                        A57|                        null|          Independent - the...|                                   1|               Organization that...|                 Science and Techn...|                                May|                                  null|                                     1|              Unconditional Exe...|                            A|                   null|                             OR|            Portland|                     97214|          1945 Southeast Wa...|                          null|                    null|                            null|                 null|                       null|                           null|                           null|                null|                           https://api.data....|     Oregon Museum of ...|        930402877|             https://www.chari...|                     https://api.data....|\n",
            "|https://www.chari...|Founded in 1935, ...|http://www.osfash...|Revealing our col...|Oregon Shakespear...|930407022| 4281|                81.9|                 160265|          2021-06-01T04:00:...|             https://d20umu42a...|             https://d20umu42a...|                    3|                      https://api.data....|                                79.27|                                     2|                                        85|                                          3|  Arts, Culture, Hu...|                   2|         https://www.chari...|https://d20umu42a...|             4|     Performing Arts|      https://www.chari...|https://d20umu42a...|            Contributions are...|                    501(c)(3)|                      56401419|       Arts, Culture and...|                       26315521|                            0|                990 (all other) o...|             Educational Organ...|               October, 2020|                   June, 1939|                        A65|                        null|          Independent - the...|                                   1|               Organization that...|                              Theater|                            October|                                  null|                                     1|              Unconditional Exe...|                            A|                   null|                             OR|             Ashland|                     97520|          15 South Pioneer ...|                          null|                    null|                              OR|              Ashland|                      97520|                   P.O. Box 158|                           null|                null|                           https://api.data....|     Oregon Shakespear...|        930407022|             https://www.chari...|                     https://api.data....|\n",
            "|https://www.chari...|Responding to Chr...|https://www.ccslc...|Help and Hope for...|Catholic Communit...|930409105|14738|               85.01|                 166153|          2022-04-01T04:00:...|             https://d20umu42a...|             https://d20umu42a...|                    3|                      https://api.data....|                                   80|                                     3|                                        93|                                          4|        Human Services|                   6|         https://www.chari...|https://d20umu42a...|            29|     Social Services|      https://www.chari...|https://d20umu42a...|            Contributions are...|                    501(c)(3)|                       2616186|       Human Services - ...|                        5099726|                            0|                990 (all other) o...|             Charitable Organi...|                  June, 2020|                  March, 1946|                        P28|        UNITED STATES CON...|          Subordinate - the...|                                   1|               Organization whic...|                 Neighborhood Cent...|                               June|                                  null|                                     1|              Unconditional Exe...|                            P|                   null|                             OR|         Springfield|                     97477|                 1025 G Street|                          null|                    null|                            null|                 null|                       null|                           null|                           null|                null|                           https://api.data....|     Catholic Communit...|        930409105|             https://www.chari...|                     https://api.data....|\n",
            "|https://www.chari...|Since 1923, the S...|http://www.sunshi...|Helping families ...|Sunshine Division...|930429354| 6604|               93.59|                 167671|          2022-03-01T05:00:...|             https://d20umu42a...|             https://d20umu42a...|                    4|                      https://api.data....|                                91.88|                                     4|                                        96|                                          4|        Human Services|                   6|         https://www.chari...|https://d20umu42a...|            18|Food Banks, Food ...|      https://www.chari...|https://d20umu42a...|            Contributions are...|                    501(c)(3)|                       7563723|       Crime, Legal-Related|                       10563284|                            Z|                990 (all other) o...|             Charitable Organi...|                  June, 2020|                  March, 1967|                        I60|                        null|          Independent - the...|                                   1|               Organization whic...|                 Law Enforcement A...|                               June|                                  null|                                     1|              Unconditional Exe...|                            I|                   null|                             OR|            Portland|                     97227|          687 North Thompso...|                          null|                    null|                            null|                 null|                       null|                           null|                           null|                null|                           https://api.data....|     Sunshine Division...|        930429354|             https://www.chari...|                     https://api.data....|\n",
            "|https://www.chari...|Since its foundin...|http://www.orsymp...|Moving Music Forward|     Oregon Symphony|930446527| 6412|               86.68|                 163697|          2021-11-01T04:00:...|             https://d20umu42a...|             https://d20umu42a...|                    3|                      https://api.data....|                                82.52|                                     3|                                        93|                                          4|  Arts, Culture, Hu...|                   2|         https://www.chari...|https://d20umu42a...|             4|     Performing Arts|      https://www.chari...|https://d20umu42a...|            Contributions are...|                    501(c)(3)|                      21520375|       Arts, Culture and...|                       14183328|                            0|                990 (all other) o...|             Educational Organ...|                  June, 2020|                   June, 1954|                        A69|                        null|          Independent - the...|                                   1|               Organization whic...|                  Symphony Orchestras|                               June|                                  null|                                     1|              Unconditional Exe...|                            A|                   null|                             OR|            Portland|                     97205|          909 Southwest Was...|                          null|                    null|                              OR|             Portland|                      97205|           921 Southwest Was...|                      Suite 200|                null|                           https://api.data....|          Oregon Symphony|        930446527|             https://www.chari...|                     https://api.data....|\n",
            "|https://www.chari...|Founded in 1944, ...|http://www.green-...|Loving animals si...|Greenhill Humane ...|930467412| 7607|               84.64|                 164020|          2022-02-01T05:00:...|             https://d20umu42a...|             https://d20umu42a...|                    3|                      https://api.data....|                                78.29|                                     2|                                       100|                                          4|               Animals|                   1|         https://www.chari...|https://d20umu42a...|             2|Animal Rights, We...|      https://www.chari...|https://d20umu42a...|            Contributions are...|                    501(c)(3)|                       9678406|             Animal-Related|                        4115124|                            0|                990 (all other) o...|             Organization to P...|                  June, 2020|                    May, 1957|                        D20|                        null|          Independent - the...|                                   1|               Organization whic...|                 Animal Protection...|                               June|                                  null|                                     1|              Unconditional Exe...|                            D|                   null|                             OR|              Eugene|                     97402|          88530 Green Hill ...|                          null|                    null|                            null|                 null|                       null|                           null|                           null|                null|                           https://api.data....|     Greenhill Humane ...|        930467412|             https://www.chari...|                     https://api.data....|\n",
            "|https://www.chari...|Boys & Girls Club...|http://www.bgcpor...|Enabling young pe...|Boys & Girls Club...|930474800|12496|               87.04|                 167803|          2022-04-01T04:00:...|             https://d20umu42a...|             https://d20umu42a...|                    3|                      https://api.data....|                                85.34|                                     3|                                        89|                                          3|        Human Services|                   6|         https://www.chari...|https://d20umu42a...|            16|Youth Development...|      https://www.chari...|https://d20umu42a...|            Contributions are...|                    501(c)(3)|                      26157816|          Youth Development|                        5078680|                            Z|                990 (all other) o...|             Charitable Organi...|                  June, 2020|                   July, 1948|                        O23|                        null|          Independent - the...|                                   1|               Organization whic...|                 Boys and Girls Cl...|                               June|                                  null|                                     1|              Unconditional Exe...|                            O|                   null|                             OR|            Portland|                     97202|          8203 SE Seventh A...|                     Suite 100|                    null|                              OR|             Portland|                      97282|                P.O. Box 820209|                           null|                null|                           https://api.data....|     Boys & Girls Club...|        930474800|             https://www.chari...|                     https://api.data....|\n",
            "|https://www.chari...|Impact Alabama wa...|https://impactame...|Engaging a Genera...|      Impact America|200850212|15177|               78.12|                 166300|          2022-05-01T04:00:...|             https://d20umu42a...|             https://d20umu42a...|                    2|                      https://api.data....|                                78.25|                                     2|                                        78|                                          2|        Human Services|                   6|         https://www.chari...|https://d20umu42a...|            29|     Social Services|      https://www.chari...|https://d20umu42a...|            Contributions are...|                    501(c)(3)|                       1325910|       Educational Insti...|                        2197482|                         null|                990 (all other) o...|             Educational Organ...|                  June, 2020|                   June, 2004|                        B80|                        null|          Independent - the...|                                   1|               Organization whic...|                 Student Services,...|                               June|                                  null|                                     1|              Unconditional Exe...|                            B|                   null|                             AL|          Birmingham|                     35209|          601 Beacon Parkwa...|                     Suite 102|                    null|                            null|                 null|                       null|                           null|                           null|                null|                           https://api.data....|           Impact America|        200850212|             https://www.chari...|                     https://api.data....|\n",
            "|https://www.chari...|Four Corners Mini...|http://fourcorner...|     The Gospel Sent|Four Corners Mini...|203589685|16270|               89.01|                 168459|          2022-02-01T05:00:...|             https://d20umu42a...|             https://d20umu42a...|                    3|                      https://api.data....|                                95.95|                                     4|                                        85|                                          3|              Religion|                   9|         https://www.chari...|https://d20umu42a...|            26|Religious Activities|      https://www.chari...|https://d20umu42a...|            Contributions are...|                    501(c)(3)|                       3032238|       Religion-Related,...|                        2082463|                         null|                990 (all other) o...|             Charitable Organi...|              December, 2020|                   June, 2007|                        X20|                        null|          Independent - the...|                                   1|               Organization that...|                            Christian|                           December|                                  null|                                     1|              Unconditional Exe...|                            X|                   null|                             AL|             Opelika|                     36801|          202 South 8th Street|                          null|                    null|                            null|                 null|                       null|                           null|                           null|                null|                           https://api.data....|     Four Corners Mini...|        203589685|             https://www.chari...|                     https://api.data....|\n",
            "|https://www.chari...|The Mobile Sympho...|http://www.mobile...|Working to create...|Mobile Symphony O...|237070234|15711|               70.42|                 158948|          2021-09-01T04:00:...|             https://d20umu42a...|             https://d20umu42a...|                    2|                      https://api.data....|                                59.65|                                     1|                                        89|                                          3|  Arts, Culture, Hu...|                   2|         https://www.chari...|https://d20umu42a...|             4|     Performing Arts|      https://www.chari...|https://d20umu42a...|            Contributions are...|                    501(c)(3)|                       1265941|       Arts, Culture and...|                        1463478|                            0|                990 (all other) o...|             Educational Organ...|                  June, 2021|              September, 1970|                        A69|                        null|          Independent - the...|                                   1|               Organization that...|                  Symphony Orchestras|                               June|                                  null|                                     1|              Unconditional Exe...|                            A|                   null|                             AL|              Mobile|                     36602|            257 Dauphin Street|                          null|                    null|                            null|                 null|                       null|                           null|                           null|                null|                           https://api.data....|     Mobile Symphony O...|        237070234|             https://www.chari...|                     https://api.data....|\n",
            "+--------------------+--------------------+--------------------+--------------------+--------------------+---------+-----+--------------------+-----------------------+------------------------------+---------------------------------+---------------------------------+---------------------+------------------------------------------+-------------------------------------+--------------------------------------+------------------------------------------+-------------------------------------------+----------------------+--------------------+-----------------------------+--------------------+--------------+--------------------+--------------------------+--------------------+--------------------------------+-----------------------------+------------------------------+---------------------------+-------------------------------+-----------------------------+------------------------------------+---------------------------------+----------------------------+-----------------------------+---------------------------+----------------------------+------------------------------+------------------------------------+-----------------------------------+-------------------------------------+-----------------------------------+--------------------------------------+--------------------------------------+----------------------------------+-----------------------------+-----------------------+-------------------------------+--------------------+--------------------------+------------------------------+------------------------------+------------------------+--------------------------------+---------------------+---------------------------+-------------------------------+-------------------------------+--------------------+-----------------------------------------------+-------------------------+-----------------+---------------------------------+-----------------------------------------+\n",
            "\n"
          ]
        }
      ]
    },
    {
      "cell_type": "code",
      "source": [
        "ein_df = spark.read.jdbc(url=jdbc_url, table='ein_table', properties= config) \n",
        "name_df = spark.read.jdbc(url=jdbc_url, table='name_table', properties= config) \n",
        "income_df = spark.read.jdbc(url=jdbc_url, table='income_table', properties= config) \n",
        "publish_date_df = spark.read.jdbc(url=jdbc_url, table='publish_date', properties= config) \n",
        "rating_df = spark.read.jdbc(url=jdbc_url, table='rating_table', properties= config) \n",
        "state_df = spark.read.jdbc(url=jdbc_url, table='state_table', properties= config) \n"
      ],
      "metadata": {
        "id": "jpM1PlZ4dInw"
      },
      "execution_count": 10,
      "outputs": []
    },
    {
      "cell_type": "code",
      "source": [
        "print(ein_df.show(5), name_df.show(5))"
      ],
      "metadata": {
        "colab": {
          "base_uri": "https://localhost:8080/"
        },
        "id": "qgHRSC6Fdgdv",
        "outputId": "53130059-8d80-4f7a-9e26-b38093463e03"
      },
      "execution_count": 11,
      "outputs": [
        {
          "output_type": "stream",
          "name": "stdout",
          "text": [
            "+-----+---+\n",
            "|orgid|ein|\n",
            "+-----+---+\n",
            "+-----+---+\n",
            "\n",
            "+-----+------------------------+\n",
            "|orgid|organization_charityname|\n",
            "+-----+------------------------+\n",
            "+-----+------------------------+\n",
            "\n",
            "None None\n"
          ]
        }
      ]
    },
    {
      "cell_type": "markdown",
      "source": [
        "# ** Data Cleaning **"
      ],
      "metadata": {
        "id": "zShYatfTGobE"
      }
    },
    {
      "cell_type": "code",
      "source": [
        "print(f\"*************The original dataset contains {df.count()} rows*************************\")"
      ],
      "metadata": {
        "colab": {
          "base_uri": "https://localhost:8080/"
        },
        "id": "I-yCuOR1aPAw",
        "outputId": "fe5eb9fc-e33d-4807-a611-526f7528d500"
      },
      "execution_count": 28,
      "outputs": [
        {
          "output_type": "stream",
          "name": "stdout",
          "text": [
            "*************The original dataset contains 3463 rows*************************\n"
          ]
        }
      ]
    },
    {
      "cell_type": "code",
      "source": [
        " # Select insterested columns\n",
        " select_columns = [\"orgID\", \n",
        "                   \"currentRating__financialRating__rating\", \n",
        "                   \"currentRating__accountabilityRating__rating\", \n",
        "                   \"irsClassification__assetAmount\"]"
      ],
      "metadata": {
        "id": "ARHWk4UkaCwA"
      },
      "execution_count": 12,
      "outputs": []
    },
    {
      "cell_type": "code",
      "source": [
        "selected_df =  df[select_columns]\n",
        "selected_df.show(10)"
      ],
      "metadata": {
        "colab": {
          "base_uri": "https://localhost:8080/"
        },
        "id": "lo-0W9VSa0QJ",
        "outputId": "963fb07c-f8a6-458d-b3d3-f19764c23fb9"
      },
      "execution_count": 26,
      "outputs": [
        {
          "output_type": "stream",
          "name": "stdout",
          "text": [
            "3463\n",
            "+-----+--------------------------------------+-------------------------------------------+------------------------------+\n",
            "|orgID|currentRating__financialRating__rating|currentRating__accountabilityRating__rating|irsClassification__assetAmount|\n",
            "+-----+--------------------------------------+-------------------------------------------+------------------------------+\n",
            "|15177|                                     2|                                          2|                       1325910|\n",
            "|16270|                                     4|                                          3|                       3032238|\n",
            "|15711|                                     1|                                          3|                       1265941|\n",
            "|10038|                                     4|                                          3|                      57645774|\n",
            "|18112|                                     4|                                          4|                      38106163|\n",
            "|13761|                                     4|                                          3|                      78592536|\n",
            "|17385|                                     3|                                          4|                       2950918|\n",
            "| 6221|                                     4|                                          4|                      42553839|\n",
            "|17428|                                     3|                                          3|                       5985023|\n",
            "| 9596|                                     2|                                          2|                      18670748|\n",
            "+-----+--------------------------------------+-------------------------------------------+------------------------------+\n",
            "only showing top 10 rows\n",
            "\n"
          ]
        }
      ]
    },
    {
      "cell_type": "code",
      "source": [
        "# cleaned_df.write.csv(\"cleaned_table.csv\")"
      ],
      "metadata": {
        "id": "JZqpVNb0fzlR"
      },
      "execution_count": 24,
      "outputs": []
    },
    {
      "cell_type": "code",
      "source": [
        "selected_df.dtypes"
      ],
      "metadata": {
        "colab": {
          "base_uri": "https://localhost:8080/"
        },
        "id": "GbStHKOMzYqH",
        "outputId": "65a1eb4b-1e6b-4549-b6b5-8b4fc2100766"
      },
      "execution_count": 14,
      "outputs": [
        {
          "output_type": "execute_result",
          "data": {
            "text/plain": [
              "[('orgID', 'string'),\n",
              " ('currentRating__financialRating__rating', 'string'),\n",
              " ('currentRating__accountabilityRating__rating', 'string'),\n",
              " ('irsClassification__assetAmount', 'string')]"
            ]
          },
          "metadata": {},
          "execution_count": 14
        }
      ]
    },
    {
      "cell_type": "code",
      "source": [
        "# cleaned_df.write.jdbc(url=jdbc_url, table='cleaned_table', mode=mode, properties=config)\n",
        "# cleaned_df.show(3)\n"
      ],
      "metadata": {
        "colab": {
          "base_uri": "https://localhost:8080/"
        },
        "id": "3nimb5hddmz2",
        "outputId": "d4075fa1-8cc6-421f-e601-cbe738c69078"
      },
      "execution_count": 93,
      "outputs": [
        {
          "output_type": "stream",
          "name": "stdout",
          "text": [
            "+-----+--------------------------------------+-------------------------------------------+------------------------------+\n",
            "|orgID|currentRating__financialRating__rating|currentRating__accountabilityRating__rating|irsClassification__assetAmount|\n",
            "+-----+--------------------------------------+-------------------------------------------+------------------------------+\n",
            "|15177|                                     2|                                          2|                       1325910|\n",
            "|16270|                                     4|                                          3|                       3032238|\n",
            "|15711|                                     1|                                          3|                       1265941|\n",
            "+-----+--------------------------------------+-------------------------------------------+------------------------------+\n",
            "only showing top 3 rows\n",
            "\n"
          ]
        }
      ]
    },
    {
      "cell_type": "code",
      "source": [
        "# # Convert column orgID into integer\n",
        "# selected_df_convertINT = selected_df.withColumn(\"orgID\",col(\"orgID\").cast(\"integer\"))\n",
        "# print(selected_df_convertINT.count())\n",
        "# selected_df_convertINT.dtypes"
      ],
      "metadata": {
        "colab": {
          "base_uri": "https://localhost:8080/"
        },
        "id": "Co2DyfGKDEQ6",
        "outputId": "7605a7d8-e0c4-466a-cfd2-57fb170b876d"
      },
      "execution_count": 98,
      "outputs": [
        {
          "output_type": "stream",
          "name": "stdout",
          "text": [
            "3463\n"
          ]
        },
        {
          "output_type": "execute_result",
          "data": {
            "text/plain": [
              "[('orgID', 'int'),\n",
              " ('currentRating__financialRating__rating', 'string'),\n",
              " ('currentRating__accountabilityRating__rating', 'string'),\n",
              " ('irsClassification__assetAmount', 'string')]"
            ]
          },
          "metadata": {},
          "execution_count": 98
        }
      ]
    },
    {
      "cell_type": "code",
      "source": [
        "# Clean data keeping only the rows with \"orgID\" valid\n",
        "cleaned_df = selected_df.filter(selected_df[\"orgID\"].cast(\"int\").isNotNull())\n",
        "print(cleaned_df.count())\n",
        "cleaned_df.show(10)"
      ],
      "metadata": {
        "colab": {
          "base_uri": "https://localhost:8080/"
        },
        "id": "QSUFVlQ0HkD1",
        "outputId": "f6350abe-f8e0-46b0-b9f6-6c6c3bc88776"
      },
      "execution_count": 15,
      "outputs": [
        {
          "output_type": "stream",
          "name": "stdout",
          "text": [
            "3354\n",
            "+-----+--------------------------------------+-------------------------------------------+------------------------------+\n",
            "|orgID|currentRating__financialRating__rating|currentRating__accountabilityRating__rating|irsClassification__assetAmount|\n",
            "+-----+--------------------------------------+-------------------------------------------+------------------------------+\n",
            "|15177|                                     2|                                          2|                       1325910|\n",
            "|16270|                                     4|                                          3|                       3032238|\n",
            "|15711|                                     1|                                          3|                       1265941|\n",
            "|10038|                                     4|                                          3|                      57645774|\n",
            "|18112|                                     4|                                          4|                      38106163|\n",
            "|13761|                                     4|                                          3|                      78592536|\n",
            "|17385|                                     3|                                          4|                       2950918|\n",
            "| 6221|                                     4|                                          4|                      42553839|\n",
            "|17428|                                     3|                                          3|                       5985023|\n",
            "| 9596|                                     2|                                          2|                      18670748|\n",
            "+-----+--------------------------------------+-------------------------------------------+------------------------------+\n",
            "only showing top 10 rows\n",
            "\n"
          ]
        }
      ]
    },
    {
      "cell_type": "code",
      "source": [
        "# Write clean_table into DB\n",
        "cleaned_df.write.jdbc(url=jdbc_url, table='cleaned_table', mode=mode, properties=config)\n",
        "cleaned_df.show()"
      ],
      "metadata": {
        "colab": {
          "base_uri": "https://localhost:8080/"
        },
        "id": "cc1aTbOaRrDw",
        "outputId": "2ccd3336-6370-45be-ca74-571e2d5d62be"
      },
      "execution_count": 103,
      "outputs": [
        {
          "output_type": "stream",
          "name": "stdout",
          "text": [
            "+-----+--------------------------------------+-------------------------------------------+------------------------------+\n",
            "|orgID|currentRating__financialRating__rating|currentRating__accountabilityRating__rating|irsClassification__assetAmount|\n",
            "+-----+--------------------------------------+-------------------------------------------+------------------------------+\n",
            "|15177|                                     2|                                          2|                       1325910|\n",
            "|16270|                                     4|                                          3|                       3032238|\n",
            "|15711|                                     1|                                          3|                       1265941|\n",
            "|10038|                                     4|                                          3|                      57645774|\n",
            "|18112|                                     4|                                          4|                      38106163|\n",
            "|13761|                                     4|                                          3|                      78592536|\n",
            "|17385|                                     3|                                          4|                       2950918|\n",
            "| 6221|                                     4|                                          4|                      42553839|\n",
            "|17428|                                     3|                                          3|                       5985023|\n",
            "| 9596|                                     2|                                          2|                      18670748|\n",
            "| 5540|                                     4|                                          3|                      15638416|\n",
            "|14817|                                     3|                                          3|                      42065426|\n",
            "| 9618|                                     3|                                          0|                        285335|\n",
            "| 9633|                                     4|                                          4|                      41750720|\n",
            "|12876|                                     4|                                          2|                       1421094|\n",
            "|14768|                                     1|                                          3|                       5012677|\n",
            "| 4630|                                     4|                                          4|                     119005962|\n",
            "|13339|                                     4|                                          4|                       9988776|\n",
            "| 7259|                                     3|                                          3|                      10709041|\n",
            "|16692|                                     3|                                          1|                       5652724|\n",
            "+-----+--------------------------------------+-------------------------------------------+------------------------------+\n",
            "only showing top 20 rows\n",
            "\n"
          ]
        }
      ]
    },
    {
      "cell_type": "code",
      "source": [
        "print(f\"*************The cleaned dataset contains {cleaned_df.count()} rows*************************\")"
      ],
      "metadata": {
        "colab": {
          "base_uri": "https://localhost:8080/"
        },
        "id": "cilgpu5Sag2L",
        "outputId": "56bdceea-7495-4e13-c28f-fcfcf60ce4ec"
      },
      "execution_count": 29,
      "outputs": [
        {
          "output_type": "stream",
          "name": "stdout",
          "text": [
            "*************The cleaned dataset contains 3354 rows*************************\n"
          ]
        }
      ]
    },
    {
      "cell_type": "markdown",
      "source": [
        "# **Read table**\n",
        "\n",
        "### 1. Read cleaned_table directly from DB"
      ],
      "metadata": {
        "id": "9WSvpLiunHdS"
      }
    },
    {
      "cell_type": "code",
      "source": [
        "cleaned_df = spark.read.jdbc(url=jdbc_url, table='cleaned_table', properties= config) \n",
        "print(cleaned_df.count())\n",
        "cleaned_df.show()"
      ],
      "metadata": {
        "colab": {
          "base_uri": "https://localhost:8080/"
        },
        "id": "IIzBK4-dnD1S",
        "outputId": "c07e2dda-ad43-4c37-bcb8-2b6647c01294"
      },
      "execution_count": 16,
      "outputs": [
        {
          "output_type": "stream",
          "name": "stdout",
          "text": [
            "3354\n",
            "+-----+--------------------------------------+-------------------------------------------+------------------------------+\n",
            "|orgID|currentRating__financialRating__rating|currentRating__accountabilityRating__rating|irsClassification__assetAmount|\n",
            "+-----+--------------------------------------+-------------------------------------------+------------------------------+\n",
            "| 7602|                                     3|                                          4|                      60251950|\n",
            "| 4281|                                     2|                                          3|                      56401419|\n",
            "|14738|                                     3|                                          4|                       2616186|\n",
            "| 6604|                                     4|                                          4|                       7563723|\n",
            "| 6412|                                     3|                                          4|                      21520375|\n",
            "| 7607|                                     2|                                          4|                       9678406|\n",
            "|12496|                                     3|                                          3|                      26157816|\n",
            "|15962|                                     1|                                          3|                       4185267|\n",
            "| 9282|                                     3|                                          4|                       1454179|\n",
            "|12007|                                     3|                                          3|                       2774326|\n",
            "| 5778|                                     4|                                          4|                       4172920|\n",
            "| 8316|                                     4|                                          3|                       9908368|\n",
            "| 6413|                                     2|                                          4|                      15989040|\n",
            "| 6414|                                     2|                                          2|                       1333882|\n",
            "| 5779|                                     2|                                          3|                       8544155|\n",
            "| 7414|                                     3|                                          4|                       3415823|\n",
            "| 6415|                                     1|                                          4|                       2646903|\n",
            "| 5780|                                     4|                                          4|                      22306039|\n",
            "| 6600|                                     4|                                          4|                      39741283|\n",
            "|15217|                                     3|                                          4|                       7475039|\n",
            "+-----+--------------------------------------+-------------------------------------------+------------------------------+\n",
            "only showing top 20 rows\n",
            "\n"
          ]
        }
      ]
    },
    {
      "cell_type": "markdown",
      "source": [
        "\n",
        "### 2. Read cleaned_table from S3 in Spark"
      ],
      "metadata": {
        "id": "uIHQIch7y8Jx"
      }
    },
    {
      "cell_type": "code",
      "source": [
        "from pyspark import SparkFiles\n",
        "\n",
        "spark.sparkContext.addFile(\"https://analyzeup-hz.s3.us-west-1.amazonaws.com/cleaned_table.csv\")\n",
        "cleaned_df = spark.read.csv(SparkFiles.get(\"cleaned_table.csv\"), sep=',', header=True, inferSchema=True)\n",
        "\n",
        "cleaned_df.count()"
      ],
      "metadata": {
        "colab": {
          "base_uri": "https://localhost:8080/"
        },
        "id": "hpcK6eQfzKQF",
        "outputId": "c2f3a854-e5d9-435f-e6ec-d79a779f6a9d"
      },
      "execution_count": 17,
      "outputs": [
        {
          "output_type": "execute_result",
          "data": {
            "text/plain": [
              "3354"
            ]
          },
          "metadata": {},
          "execution_count": 17
        }
      ]
    },
    {
      "cell_type": "markdown",
      "source": [
        "### 3. Read cleaned_table from S3 using Pandas"
      ],
      "metadata": {
        "id": "ZfVb2OqUBkr-"
      }
    },
    {
      "cell_type": "code",
      "source": [
        "import pandas as pd\n",
        "import io\n",
        "import requests\n",
        "clean_table_url=\"https://analyzeup-hz.s3.us-west-1.amazonaws.com/cleaned_table.csv\"\n",
        "s = requests.get(clean_table_url).content\n",
        "clean_table_df = pd.read_csv(io.StringIO(s.decode('utf-8'))) \n",
        "# (, on_bad_lines='skip)\n",
        "print(clean_table_df.count())\n",
        "clean_table_df.head(5)"
      ],
      "metadata": {
        "colab": {
          "base_uri": "https://localhost:8080/",
          "height": 339
        },
        "id": "pfAf_KJ4B3Yd",
        "outputId": "888d3c6a-ea01-4488-fd41-f12d5d9fc633"
      },
      "execution_count": 22,
      "outputs": [
        {
          "output_type": "stream",
          "name": "stdout",
          "text": [
            "orgID                                          3354\n",
            "currentRating__financialRating__rating         3354\n",
            "currentRating__accountabilityRating__rating    3354\n",
            "irsClassification__assetAmount                 3336\n",
            "dtype: int64\n"
          ]
        },
        {
          "output_type": "execute_result",
          "data": {
            "text/plain": [
              "   orgID  currentRating__financialRating__rating  \\\n",
              "0   7602                                     3.0   \n",
              "1   4281                                     2.0   \n",
              "2  14738                                     3.0   \n",
              "3   6604                                     4.0   \n",
              "4   6412                                     3.0   \n",
              "\n",
              "   currentRating__accountabilityRating__rating irsClassification__assetAmount  \n",
              "0                                            4                       60251950  \n",
              "1                                            3                       56401419  \n",
              "2                                            4                        2616186  \n",
              "3                                            4                        7563723  \n",
              "4                                            4                       21520375  "
            ],
            "text/html": [
              "\n",
              "  <div id=\"df-048e6943-6a70-43e6-b82e-4ee8f48eae11\">\n",
              "    <div class=\"colab-df-container\">\n",
              "      <div>\n",
              "<style scoped>\n",
              "    .dataframe tbody tr th:only-of-type {\n",
              "        vertical-align: middle;\n",
              "    }\n",
              "\n",
              "    .dataframe tbody tr th {\n",
              "        vertical-align: top;\n",
              "    }\n",
              "\n",
              "    .dataframe thead th {\n",
              "        text-align: right;\n",
              "    }\n",
              "</style>\n",
              "<table border=\"1\" class=\"dataframe\">\n",
              "  <thead>\n",
              "    <tr style=\"text-align: right;\">\n",
              "      <th></th>\n",
              "      <th>orgID</th>\n",
              "      <th>currentRating__financialRating__rating</th>\n",
              "      <th>currentRating__accountabilityRating__rating</th>\n",
              "      <th>irsClassification__assetAmount</th>\n",
              "    </tr>\n",
              "  </thead>\n",
              "  <tbody>\n",
              "    <tr>\n",
              "      <th>0</th>\n",
              "      <td>7602</td>\n",
              "      <td>3.0</td>\n",
              "      <td>4</td>\n",
              "      <td>60251950</td>\n",
              "    </tr>\n",
              "    <tr>\n",
              "      <th>1</th>\n",
              "      <td>4281</td>\n",
              "      <td>2.0</td>\n",
              "      <td>3</td>\n",
              "      <td>56401419</td>\n",
              "    </tr>\n",
              "    <tr>\n",
              "      <th>2</th>\n",
              "      <td>14738</td>\n",
              "      <td>3.0</td>\n",
              "      <td>4</td>\n",
              "      <td>2616186</td>\n",
              "    </tr>\n",
              "    <tr>\n",
              "      <th>3</th>\n",
              "      <td>6604</td>\n",
              "      <td>4.0</td>\n",
              "      <td>4</td>\n",
              "      <td>7563723</td>\n",
              "    </tr>\n",
              "    <tr>\n",
              "      <th>4</th>\n",
              "      <td>6412</td>\n",
              "      <td>3.0</td>\n",
              "      <td>4</td>\n",
              "      <td>21520375</td>\n",
              "    </tr>\n",
              "  </tbody>\n",
              "</table>\n",
              "</div>\n",
              "      <button class=\"colab-df-convert\" onclick=\"convertToInteractive('df-048e6943-6a70-43e6-b82e-4ee8f48eae11')\"\n",
              "              title=\"Convert this dataframe to an interactive table.\"\n",
              "              style=\"display:none;\">\n",
              "        \n",
              "  <svg xmlns=\"http://www.w3.org/2000/svg\" height=\"24px\"viewBox=\"0 0 24 24\"\n",
              "       width=\"24px\">\n",
              "    <path d=\"M0 0h24v24H0V0z\" fill=\"none\"/>\n",
              "    <path d=\"M18.56 5.44l.94 2.06.94-2.06 2.06-.94-2.06-.94-.94-2.06-.94 2.06-2.06.94zm-11 1L8.5 8.5l.94-2.06 2.06-.94-2.06-.94L8.5 2.5l-.94 2.06-2.06.94zm10 10l.94 2.06.94-2.06 2.06-.94-2.06-.94-.94-2.06-.94 2.06-2.06.94z\"/><path d=\"M17.41 7.96l-1.37-1.37c-.4-.4-.92-.59-1.43-.59-.52 0-1.04.2-1.43.59L10.3 9.45l-7.72 7.72c-.78.78-.78 2.05 0 2.83L4 21.41c.39.39.9.59 1.41.59.51 0 1.02-.2 1.41-.59l7.78-7.78 2.81-2.81c.8-.78.8-2.07 0-2.86zM5.41 20L4 18.59l7.72-7.72 1.47 1.35L5.41 20z\"/>\n",
              "  </svg>\n",
              "      </button>\n",
              "      \n",
              "  <style>\n",
              "    .colab-df-container {\n",
              "      display:flex;\n",
              "      flex-wrap:wrap;\n",
              "      gap: 12px;\n",
              "    }\n",
              "\n",
              "    .colab-df-convert {\n",
              "      background-color: #E8F0FE;\n",
              "      border: none;\n",
              "      border-radius: 50%;\n",
              "      cursor: pointer;\n",
              "      display: none;\n",
              "      fill: #1967D2;\n",
              "      height: 32px;\n",
              "      padding: 0 0 0 0;\n",
              "      width: 32px;\n",
              "    }\n",
              "\n",
              "    .colab-df-convert:hover {\n",
              "      background-color: #E2EBFA;\n",
              "      box-shadow: 0px 1px 2px rgba(60, 64, 67, 0.3), 0px 1px 3px 1px rgba(60, 64, 67, 0.15);\n",
              "      fill: #174EA6;\n",
              "    }\n",
              "\n",
              "    [theme=dark] .colab-df-convert {\n",
              "      background-color: #3B4455;\n",
              "      fill: #D2E3FC;\n",
              "    }\n",
              "\n",
              "    [theme=dark] .colab-df-convert:hover {\n",
              "      background-color: #434B5C;\n",
              "      box-shadow: 0px 1px 3px 1px rgba(0, 0, 0, 0.15);\n",
              "      filter: drop-shadow(0px 1px 2px rgba(0, 0, 0, 0.3));\n",
              "      fill: #FFFFFF;\n",
              "    }\n",
              "  </style>\n",
              "\n",
              "      <script>\n",
              "        const buttonEl =\n",
              "          document.querySelector('#df-048e6943-6a70-43e6-b82e-4ee8f48eae11 button.colab-df-convert');\n",
              "        buttonEl.style.display =\n",
              "          google.colab.kernel.accessAllowed ? 'block' : 'none';\n",
              "\n",
              "        async function convertToInteractive(key) {\n",
              "          const element = document.querySelector('#df-048e6943-6a70-43e6-b82e-4ee8f48eae11');\n",
              "          const dataTable =\n",
              "            await google.colab.kernel.invokeFunction('convertToInteractive',\n",
              "                                                     [key], {});\n",
              "          if (!dataTable) return;\n",
              "\n",
              "          const docLinkHtml = 'Like what you see? Visit the ' +\n",
              "            '<a target=\"_blank\" href=https://colab.research.google.com/notebooks/data_table.ipynb>data table notebook</a>'\n",
              "            + ' to learn more about interactive tables.';\n",
              "          element.innerHTML = '';\n",
              "          dataTable['output_type'] = 'display_data';\n",
              "          await google.colab.output.renderOutput(dataTable, element);\n",
              "          const docLink = document.createElement('div');\n",
              "          docLink.innerHTML = docLinkHtml;\n",
              "          element.appendChild(docLink);\n",
              "        }\n",
              "      </script>\n",
              "    </div>\n",
              "  </div>\n",
              "  "
            ]
          },
          "metadata": {},
          "execution_count": 22
        }
      ]
    },
    {
      "cell_type": "code",
      "source": [
        ""
      ],
      "metadata": {
        "id": "nOuEhChNZohc"
      },
      "execution_count": 22,
      "outputs": []
    }
  ]
}